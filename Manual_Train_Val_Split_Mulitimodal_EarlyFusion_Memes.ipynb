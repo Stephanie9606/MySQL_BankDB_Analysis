{
  "nbformat": 4,
  "nbformat_minor": 0,
  "metadata": {
    "colab": {
      "name": "Manual_Train/Val_Split_Mulitimodal_EarlyFusion_Memes.ipynb",
      "provenance": [],
      "collapsed_sections": [
        "71i5-crpi2ct"
      ],
      "include_colab_link": true
    },
    "kernelspec": {
      "name": "python3",
      "display_name": "Python 3"
    },
    "language_info": {
      "name": "python"
    },
    "accelerator": "GPU",
    "widgets": {
      "application/vnd.jupyter.widget-state+json": {
        "7d051f25585e461c98c3eafb0625ccea": {
          "model_module": "@jupyter-widgets/controls",
          "model_name": "HBoxModel",
          "model_module_version": "1.5.0",
          "state": {
            "_dom_classes": [],
            "_model_module": "@jupyter-widgets/controls",
            "_model_module_version": "1.5.0",
            "_model_name": "HBoxModel",
            "_view_count": null,
            "_view_module": "@jupyter-widgets/controls",
            "_view_module_version": "1.5.0",
            "_view_name": "HBoxView",
            "box_style": "",
            "children": [
              "IPY_MODEL_edeacd6048904ec4afc58f2521f904c8",
              "IPY_MODEL_f0f32d8aeaea422991b314e4ff6956c5",
              "IPY_MODEL_401d0137e0d24a1fbe6960a102b1b911"
            ],
            "layout": "IPY_MODEL_b33cc4e65d87430c8e0c97e682e7784d"
          }
        },
        "edeacd6048904ec4afc58f2521f904c8": {
          "model_module": "@jupyter-widgets/controls",
          "model_name": "HTMLModel",
          "model_module_version": "1.5.0",
          "state": {
            "_dom_classes": [],
            "_model_module": "@jupyter-widgets/controls",
            "_model_module_version": "1.5.0",
            "_model_name": "HTMLModel",
            "_view_count": null,
            "_view_module": "@jupyter-widgets/controls",
            "_view_module_version": "1.5.0",
            "_view_name": "HTMLView",
            "description": "",
            "description_tooltip": null,
            "layout": "IPY_MODEL_88c23f2d1c1d49a493110cf06bbc219b",
            "placeholder": "​",
            "style": "IPY_MODEL_009d47029f8b4b66a2c483929672c633",
            "value": "Downloading: 100%"
          }
        },
        "f0f32d8aeaea422991b314e4ff6956c5": {
          "model_module": "@jupyter-widgets/controls",
          "model_name": "FloatProgressModel",
          "model_module_version": "1.5.0",
          "state": {
            "_dom_classes": [],
            "_model_module": "@jupyter-widgets/controls",
            "_model_module_version": "1.5.0",
            "_model_name": "FloatProgressModel",
            "_view_count": null,
            "_view_module": "@jupyter-widgets/controls",
            "_view_module_version": "1.5.0",
            "_view_name": "ProgressView",
            "bar_style": "success",
            "description": "",
            "description_tooltip": null,
            "layout": "IPY_MODEL_a900e5c80fc441f2a586d0df00392f94",
            "max": 231508,
            "min": 0,
            "orientation": "horizontal",
            "style": "IPY_MODEL_147c161a83434742848a2996aa2a1082",
            "value": 231508
          }
        },
        "401d0137e0d24a1fbe6960a102b1b911": {
          "model_module": "@jupyter-widgets/controls",
          "model_name": "HTMLModel",
          "model_module_version": "1.5.0",
          "state": {
            "_dom_classes": [],
            "_model_module": "@jupyter-widgets/controls",
            "_model_module_version": "1.5.0",
            "_model_name": "HTMLModel",
            "_view_count": null,
            "_view_module": "@jupyter-widgets/controls",
            "_view_module_version": "1.5.0",
            "_view_name": "HTMLView",
            "description": "",
            "description_tooltip": null,
            "layout": "IPY_MODEL_f596207b25c9487fa79e43d5aa256956",
            "placeholder": "​",
            "style": "IPY_MODEL_991259faf66e44d68d1fa79725620d00",
            "value": " 226k/226k [00:00&lt;00:00, 222kB/s]"
          }
        },
        "b33cc4e65d87430c8e0c97e682e7784d": {
          "model_module": "@jupyter-widgets/base",
          "model_name": "LayoutModel",
          "model_module_version": "1.2.0",
          "state": {
            "_model_module": "@jupyter-widgets/base",
            "_model_module_version": "1.2.0",
            "_model_name": "LayoutModel",
            "_view_count": null,
            "_view_module": "@jupyter-widgets/base",
            "_view_module_version": "1.2.0",
            "_view_name": "LayoutView",
            "align_content": null,
            "align_items": null,
            "align_self": null,
            "border": null,
            "bottom": null,
            "display": null,
            "flex": null,
            "flex_flow": null,
            "grid_area": null,
            "grid_auto_columns": null,
            "grid_auto_flow": null,
            "grid_auto_rows": null,
            "grid_column": null,
            "grid_gap": null,
            "grid_row": null,
            "grid_template_areas": null,
            "grid_template_columns": null,
            "grid_template_rows": null,
            "height": null,
            "justify_content": null,
            "justify_items": null,
            "left": null,
            "margin": null,
            "max_height": null,
            "max_width": null,
            "min_height": null,
            "min_width": null,
            "object_fit": null,
            "object_position": null,
            "order": null,
            "overflow": null,
            "overflow_x": null,
            "overflow_y": null,
            "padding": null,
            "right": null,
            "top": null,
            "visibility": null,
            "width": null
          }
        },
        "88c23f2d1c1d49a493110cf06bbc219b": {
          "model_module": "@jupyter-widgets/base",
          "model_name": "LayoutModel",
          "model_module_version": "1.2.0",
          "state": {
            "_model_module": "@jupyter-widgets/base",
            "_model_module_version": "1.2.0",
            "_model_name": "LayoutModel",
            "_view_count": null,
            "_view_module": "@jupyter-widgets/base",
            "_view_module_version": "1.2.0",
            "_view_name": "LayoutView",
            "align_content": null,
            "align_items": null,
            "align_self": null,
            "border": null,
            "bottom": null,
            "display": null,
            "flex": null,
            "flex_flow": null,
            "grid_area": null,
            "grid_auto_columns": null,
            "grid_auto_flow": null,
            "grid_auto_rows": null,
            "grid_column": null,
            "grid_gap": null,
            "grid_row": null,
            "grid_template_areas": null,
            "grid_template_columns": null,
            "grid_template_rows": null,
            "height": null,
            "justify_content": null,
            "justify_items": null,
            "left": null,
            "margin": null,
            "max_height": null,
            "max_width": null,
            "min_height": null,
            "min_width": null,
            "object_fit": null,
            "object_position": null,
            "order": null,
            "overflow": null,
            "overflow_x": null,
            "overflow_y": null,
            "padding": null,
            "right": null,
            "top": null,
            "visibility": null,
            "width": null
          }
        },
        "009d47029f8b4b66a2c483929672c633": {
          "model_module": "@jupyter-widgets/controls",
          "model_name": "DescriptionStyleModel",
          "model_module_version": "1.5.0",
          "state": {
            "_model_module": "@jupyter-widgets/controls",
            "_model_module_version": "1.5.0",
            "_model_name": "DescriptionStyleModel",
            "_view_count": null,
            "_view_module": "@jupyter-widgets/base",
            "_view_module_version": "1.2.0",
            "_view_name": "StyleView",
            "description_width": ""
          }
        },
        "a900e5c80fc441f2a586d0df00392f94": {
          "model_module": "@jupyter-widgets/base",
          "model_name": "LayoutModel",
          "model_module_version": "1.2.0",
          "state": {
            "_model_module": "@jupyter-widgets/base",
            "_model_module_version": "1.2.0",
            "_model_name": "LayoutModel",
            "_view_count": null,
            "_view_module": "@jupyter-widgets/base",
            "_view_module_version": "1.2.0",
            "_view_name": "LayoutView",
            "align_content": null,
            "align_items": null,
            "align_self": null,
            "border": null,
            "bottom": null,
            "display": null,
            "flex": null,
            "flex_flow": null,
            "grid_area": null,
            "grid_auto_columns": null,
            "grid_auto_flow": null,
            "grid_auto_rows": null,
            "grid_column": null,
            "grid_gap": null,
            "grid_row": null,
            "grid_template_areas": null,
            "grid_template_columns": null,
            "grid_template_rows": null,
            "height": null,
            "justify_content": null,
            "justify_items": null,
            "left": null,
            "margin": null,
            "max_height": null,
            "max_width": null,
            "min_height": null,
            "min_width": null,
            "object_fit": null,
            "object_position": null,
            "order": null,
            "overflow": null,
            "overflow_x": null,
            "overflow_y": null,
            "padding": null,
            "right": null,
            "top": null,
            "visibility": null,
            "width": null
          }
        },
        "147c161a83434742848a2996aa2a1082": {
          "model_module": "@jupyter-widgets/controls",
          "model_name": "ProgressStyleModel",
          "model_module_version": "1.5.0",
          "state": {
            "_model_module": "@jupyter-widgets/controls",
            "_model_module_version": "1.5.0",
            "_model_name": "ProgressStyleModel",
            "_view_count": null,
            "_view_module": "@jupyter-widgets/base",
            "_view_module_version": "1.2.0",
            "_view_name": "StyleView",
            "bar_color": null,
            "description_width": ""
          }
        },
        "f596207b25c9487fa79e43d5aa256956": {
          "model_module": "@jupyter-widgets/base",
          "model_name": "LayoutModel",
          "model_module_version": "1.2.0",
          "state": {
            "_model_module": "@jupyter-widgets/base",
            "_model_module_version": "1.2.0",
            "_model_name": "LayoutModel",
            "_view_count": null,
            "_view_module": "@jupyter-widgets/base",
            "_view_module_version": "1.2.0",
            "_view_name": "LayoutView",
            "align_content": null,
            "align_items": null,
            "align_self": null,
            "border": null,
            "bottom": null,
            "display": null,
            "flex": null,
            "flex_flow": null,
            "grid_area": null,
            "grid_auto_columns": null,
            "grid_auto_flow": null,
            "grid_auto_rows": null,
            "grid_column": null,
            "grid_gap": null,
            "grid_row": null,
            "grid_template_areas": null,
            "grid_template_columns": null,
            "grid_template_rows": null,
            "height": null,
            "justify_content": null,
            "justify_items": null,
            "left": null,
            "margin": null,
            "max_height": null,
            "max_width": null,
            "min_height": null,
            "min_width": null,
            "object_fit": null,
            "object_position": null,
            "order": null,
            "overflow": null,
            "overflow_x": null,
            "overflow_y": null,
            "padding": null,
            "right": null,
            "top": null,
            "visibility": null,
            "width": null
          }
        },
        "991259faf66e44d68d1fa79725620d00": {
          "model_module": "@jupyter-widgets/controls",
          "model_name": "DescriptionStyleModel",
          "model_module_version": "1.5.0",
          "state": {
            "_model_module": "@jupyter-widgets/controls",
            "_model_module_version": "1.5.0",
            "_model_name": "DescriptionStyleModel",
            "_view_count": null,
            "_view_module": "@jupyter-widgets/base",
            "_view_module_version": "1.2.0",
            "_view_name": "StyleView",
            "description_width": ""
          }
        },
        "5b67a524339f499d8ddd1ddcd4a83041": {
          "model_module": "@jupyter-widgets/controls",
          "model_name": "HBoxModel",
          "model_module_version": "1.5.0",
          "state": {
            "_dom_classes": [],
            "_model_module": "@jupyter-widgets/controls",
            "_model_module_version": "1.5.0",
            "_model_name": "HBoxModel",
            "_view_count": null,
            "_view_module": "@jupyter-widgets/controls",
            "_view_module_version": "1.5.0",
            "_view_name": "HBoxView",
            "box_style": "",
            "children": [
              "IPY_MODEL_1b2f8749dd434636a278baa69f10b7c0",
              "IPY_MODEL_664eb0fb0f1443b1b42a44d465cda352",
              "IPY_MODEL_4e0483953ddc412d970d8044a04345bb"
            ],
            "layout": "IPY_MODEL_7558a66fe02443bb89ced6d5f248f1f1"
          }
        },
        "1b2f8749dd434636a278baa69f10b7c0": {
          "model_module": "@jupyter-widgets/controls",
          "model_name": "HTMLModel",
          "model_module_version": "1.5.0",
          "state": {
            "_dom_classes": [],
            "_model_module": "@jupyter-widgets/controls",
            "_model_module_version": "1.5.0",
            "_model_name": "HTMLModel",
            "_view_count": null,
            "_view_module": "@jupyter-widgets/controls",
            "_view_module_version": "1.5.0",
            "_view_name": "HTMLView",
            "description": "",
            "description_tooltip": null,
            "layout": "IPY_MODEL_ce2e830d06d246de8944f654d4444c73",
            "placeholder": "​",
            "style": "IPY_MODEL_1d9a68e2fa5c49ed9c126fc55cafad7a",
            "value": "Downloading: 100%"
          }
        },
        "664eb0fb0f1443b1b42a44d465cda352": {
          "model_module": "@jupyter-widgets/controls",
          "model_name": "FloatProgressModel",
          "model_module_version": "1.5.0",
          "state": {
            "_dom_classes": [],
            "_model_module": "@jupyter-widgets/controls",
            "_model_module_version": "1.5.0",
            "_model_name": "FloatProgressModel",
            "_view_count": null,
            "_view_module": "@jupyter-widgets/controls",
            "_view_module_version": "1.5.0",
            "_view_name": "ProgressView",
            "bar_style": "success",
            "description": "",
            "description_tooltip": null,
            "layout": "IPY_MODEL_07c73f61510c48a09d672cd80bba5730",
            "max": 28,
            "min": 0,
            "orientation": "horizontal",
            "style": "IPY_MODEL_8a94e54625384cc29783598076371b83",
            "value": 28
          }
        },
        "4e0483953ddc412d970d8044a04345bb": {
          "model_module": "@jupyter-widgets/controls",
          "model_name": "HTMLModel",
          "model_module_version": "1.5.0",
          "state": {
            "_dom_classes": [],
            "_model_module": "@jupyter-widgets/controls",
            "_model_module_version": "1.5.0",
            "_model_name": "HTMLModel",
            "_view_count": null,
            "_view_module": "@jupyter-widgets/controls",
            "_view_module_version": "1.5.0",
            "_view_name": "HTMLView",
            "description": "",
            "description_tooltip": null,
            "layout": "IPY_MODEL_108707045695456a8828d74b6f20e170",
            "placeholder": "​",
            "style": "IPY_MODEL_0402b75b790b48d4be787df3a676dab2",
            "value": " 28.0/28.0 [00:00&lt;00:00, 196B/s]"
          }
        },
        "7558a66fe02443bb89ced6d5f248f1f1": {
          "model_module": "@jupyter-widgets/base",
          "model_name": "LayoutModel",
          "model_module_version": "1.2.0",
          "state": {
            "_model_module": "@jupyter-widgets/base",
            "_model_module_version": "1.2.0",
            "_model_name": "LayoutModel",
            "_view_count": null,
            "_view_module": "@jupyter-widgets/base",
            "_view_module_version": "1.2.0",
            "_view_name": "LayoutView",
            "align_content": null,
            "align_items": null,
            "align_self": null,
            "border": null,
            "bottom": null,
            "display": null,
            "flex": null,
            "flex_flow": null,
            "grid_area": null,
            "grid_auto_columns": null,
            "grid_auto_flow": null,
            "grid_auto_rows": null,
            "grid_column": null,
            "grid_gap": null,
            "grid_row": null,
            "grid_template_areas": null,
            "grid_template_columns": null,
            "grid_template_rows": null,
            "height": null,
            "justify_content": null,
            "justify_items": null,
            "left": null,
            "margin": null,
            "max_height": null,
            "max_width": null,
            "min_height": null,
            "min_width": null,
            "object_fit": null,
            "object_position": null,
            "order": null,
            "overflow": null,
            "overflow_x": null,
            "overflow_y": null,
            "padding": null,
            "right": null,
            "top": null,
            "visibility": null,
            "width": null
          }
        },
        "ce2e830d06d246de8944f654d4444c73": {
          "model_module": "@jupyter-widgets/base",
          "model_name": "LayoutModel",
          "model_module_version": "1.2.0",
          "state": {
            "_model_module": "@jupyter-widgets/base",
            "_model_module_version": "1.2.0",
            "_model_name": "LayoutModel",
            "_view_count": null,
            "_view_module": "@jupyter-widgets/base",
            "_view_module_version": "1.2.0",
            "_view_name": "LayoutView",
            "align_content": null,
            "align_items": null,
            "align_self": null,
            "border": null,
            "bottom": null,
            "display": null,
            "flex": null,
            "flex_flow": null,
            "grid_area": null,
            "grid_auto_columns": null,
            "grid_auto_flow": null,
            "grid_auto_rows": null,
            "grid_column": null,
            "grid_gap": null,
            "grid_row": null,
            "grid_template_areas": null,
            "grid_template_columns": null,
            "grid_template_rows": null,
            "height": null,
            "justify_content": null,
            "justify_items": null,
            "left": null,
            "margin": null,
            "max_height": null,
            "max_width": null,
            "min_height": null,
            "min_width": null,
            "object_fit": null,
            "object_position": null,
            "order": null,
            "overflow": null,
            "overflow_x": null,
            "overflow_y": null,
            "padding": null,
            "right": null,
            "top": null,
            "visibility": null,
            "width": null
          }
        },
        "1d9a68e2fa5c49ed9c126fc55cafad7a": {
          "model_module": "@jupyter-widgets/controls",
          "model_name": "DescriptionStyleModel",
          "model_module_version": "1.5.0",
          "state": {
            "_model_module": "@jupyter-widgets/controls",
            "_model_module_version": "1.5.0",
            "_model_name": "DescriptionStyleModel",
            "_view_count": null,
            "_view_module": "@jupyter-widgets/base",
            "_view_module_version": "1.2.0",
            "_view_name": "StyleView",
            "description_width": ""
          }
        },
        "07c73f61510c48a09d672cd80bba5730": {
          "model_module": "@jupyter-widgets/base",
          "model_name": "LayoutModel",
          "model_module_version": "1.2.0",
          "state": {
            "_model_module": "@jupyter-widgets/base",
            "_model_module_version": "1.2.0",
            "_model_name": "LayoutModel",
            "_view_count": null,
            "_view_module": "@jupyter-widgets/base",
            "_view_module_version": "1.2.0",
            "_view_name": "LayoutView",
            "align_content": null,
            "align_items": null,
            "align_self": null,
            "border": null,
            "bottom": null,
            "display": null,
            "flex": null,
            "flex_flow": null,
            "grid_area": null,
            "grid_auto_columns": null,
            "grid_auto_flow": null,
            "grid_auto_rows": null,
            "grid_column": null,
            "grid_gap": null,
            "grid_row": null,
            "grid_template_areas": null,
            "grid_template_columns": null,
            "grid_template_rows": null,
            "height": null,
            "justify_content": null,
            "justify_items": null,
            "left": null,
            "margin": null,
            "max_height": null,
            "max_width": null,
            "min_height": null,
            "min_width": null,
            "object_fit": null,
            "object_position": null,
            "order": null,
            "overflow": null,
            "overflow_x": null,
            "overflow_y": null,
            "padding": null,
            "right": null,
            "top": null,
            "visibility": null,
            "width": null
          }
        },
        "8a94e54625384cc29783598076371b83": {
          "model_module": "@jupyter-widgets/controls",
          "model_name": "ProgressStyleModel",
          "model_module_version": "1.5.0",
          "state": {
            "_model_module": "@jupyter-widgets/controls",
            "_model_module_version": "1.5.0",
            "_model_name": "ProgressStyleModel",
            "_view_count": null,
            "_view_module": "@jupyter-widgets/base",
            "_view_module_version": "1.2.0",
            "_view_name": "StyleView",
            "bar_color": null,
            "description_width": ""
          }
        },
        "108707045695456a8828d74b6f20e170": {
          "model_module": "@jupyter-widgets/base",
          "model_name": "LayoutModel",
          "model_module_version": "1.2.0",
          "state": {
            "_model_module": "@jupyter-widgets/base",
            "_model_module_version": "1.2.0",
            "_model_name": "LayoutModel",
            "_view_count": null,
            "_view_module": "@jupyter-widgets/base",
            "_view_module_version": "1.2.0",
            "_view_name": "LayoutView",
            "align_content": null,
            "align_items": null,
            "align_self": null,
            "border": null,
            "bottom": null,
            "display": null,
            "flex": null,
            "flex_flow": null,
            "grid_area": null,
            "grid_auto_columns": null,
            "grid_auto_flow": null,
            "grid_auto_rows": null,
            "grid_column": null,
            "grid_gap": null,
            "grid_row": null,
            "grid_template_areas": null,
            "grid_template_columns": null,
            "grid_template_rows": null,
            "height": null,
            "justify_content": null,
            "justify_items": null,
            "left": null,
            "margin": null,
            "max_height": null,
            "max_width": null,
            "min_height": null,
            "min_width": null,
            "object_fit": null,
            "object_position": null,
            "order": null,
            "overflow": null,
            "overflow_x": null,
            "overflow_y": null,
            "padding": null,
            "right": null,
            "top": null,
            "visibility": null,
            "width": null
          }
        },
        "0402b75b790b48d4be787df3a676dab2": {
          "model_module": "@jupyter-widgets/controls",
          "model_name": "DescriptionStyleModel",
          "model_module_version": "1.5.0",
          "state": {
            "_model_module": "@jupyter-widgets/controls",
            "_model_module_version": "1.5.0",
            "_model_name": "DescriptionStyleModel",
            "_view_count": null,
            "_view_module": "@jupyter-widgets/base",
            "_view_module_version": "1.2.0",
            "_view_name": "StyleView",
            "description_width": ""
          }
        },
        "037eea35382b4dc4aa14d8c0a7c91b63": {
          "model_module": "@jupyter-widgets/controls",
          "model_name": "HBoxModel",
          "model_module_version": "1.5.0",
          "state": {
            "_dom_classes": [],
            "_model_module": "@jupyter-widgets/controls",
            "_model_module_version": "1.5.0",
            "_model_name": "HBoxModel",
            "_view_count": null,
            "_view_module": "@jupyter-widgets/controls",
            "_view_module_version": "1.5.0",
            "_view_name": "HBoxView",
            "box_style": "",
            "children": [
              "IPY_MODEL_8d8fd70bea624ae4b8b32f2e85a9c4db",
              "IPY_MODEL_94c5c0f300ef4834b22d09e5107eec07",
              "IPY_MODEL_c1d5c581b28b462893e9c4b8ed88f359"
            ],
            "layout": "IPY_MODEL_dc607df4f3a24f68afa7998877057034"
          }
        },
        "8d8fd70bea624ae4b8b32f2e85a9c4db": {
          "model_module": "@jupyter-widgets/controls",
          "model_name": "HTMLModel",
          "model_module_version": "1.5.0",
          "state": {
            "_dom_classes": [],
            "_model_module": "@jupyter-widgets/controls",
            "_model_module_version": "1.5.0",
            "_model_name": "HTMLModel",
            "_view_count": null,
            "_view_module": "@jupyter-widgets/controls",
            "_view_module_version": "1.5.0",
            "_view_name": "HTMLView",
            "description": "",
            "description_tooltip": null,
            "layout": "IPY_MODEL_d2ce2182d7a9433ea54c1e952f34e191",
            "placeholder": "​",
            "style": "IPY_MODEL_6b02a7f1ff8b4af58e1d499529c1ffdc",
            "value": "Downloading: 100%"
          }
        },
        "94c5c0f300ef4834b22d09e5107eec07": {
          "model_module": "@jupyter-widgets/controls",
          "model_name": "FloatProgressModel",
          "model_module_version": "1.5.0",
          "state": {
            "_dom_classes": [],
            "_model_module": "@jupyter-widgets/controls",
            "_model_module_version": "1.5.0",
            "_model_name": "FloatProgressModel",
            "_view_count": null,
            "_view_module": "@jupyter-widgets/controls",
            "_view_module_version": "1.5.0",
            "_view_name": "ProgressView",
            "bar_style": "success",
            "description": "",
            "description_tooltip": null,
            "layout": "IPY_MODEL_6ca88f18044a4825a7fe5e738950fc09",
            "max": 570,
            "min": 0,
            "orientation": "horizontal",
            "style": "IPY_MODEL_45b8d4fba5904035ad0f3c3925691a90",
            "value": 570
          }
        },
        "c1d5c581b28b462893e9c4b8ed88f359": {
          "model_module": "@jupyter-widgets/controls",
          "model_name": "HTMLModel",
          "model_module_version": "1.5.0",
          "state": {
            "_dom_classes": [],
            "_model_module": "@jupyter-widgets/controls",
            "_model_module_version": "1.5.0",
            "_model_name": "HTMLModel",
            "_view_count": null,
            "_view_module": "@jupyter-widgets/controls",
            "_view_module_version": "1.5.0",
            "_view_name": "HTMLView",
            "description": "",
            "description_tooltip": null,
            "layout": "IPY_MODEL_38453ef85220402494915a07e19c6a3c",
            "placeholder": "​",
            "style": "IPY_MODEL_b50c4e85e5014eacb65b54b0f2e74b27",
            "value": " 570/570 [00:00&lt;00:00, 3.68kB/s]"
          }
        },
        "dc607df4f3a24f68afa7998877057034": {
          "model_module": "@jupyter-widgets/base",
          "model_name": "LayoutModel",
          "model_module_version": "1.2.0",
          "state": {
            "_model_module": "@jupyter-widgets/base",
            "_model_module_version": "1.2.0",
            "_model_name": "LayoutModel",
            "_view_count": null,
            "_view_module": "@jupyter-widgets/base",
            "_view_module_version": "1.2.0",
            "_view_name": "LayoutView",
            "align_content": null,
            "align_items": null,
            "align_self": null,
            "border": null,
            "bottom": null,
            "display": null,
            "flex": null,
            "flex_flow": null,
            "grid_area": null,
            "grid_auto_columns": null,
            "grid_auto_flow": null,
            "grid_auto_rows": null,
            "grid_column": null,
            "grid_gap": null,
            "grid_row": null,
            "grid_template_areas": null,
            "grid_template_columns": null,
            "grid_template_rows": null,
            "height": null,
            "justify_content": null,
            "justify_items": null,
            "left": null,
            "margin": null,
            "max_height": null,
            "max_width": null,
            "min_height": null,
            "min_width": null,
            "object_fit": null,
            "object_position": null,
            "order": null,
            "overflow": null,
            "overflow_x": null,
            "overflow_y": null,
            "padding": null,
            "right": null,
            "top": null,
            "visibility": null,
            "width": null
          }
        },
        "d2ce2182d7a9433ea54c1e952f34e191": {
          "model_module": "@jupyter-widgets/base",
          "model_name": "LayoutModel",
          "model_module_version": "1.2.0",
          "state": {
            "_model_module": "@jupyter-widgets/base",
            "_model_module_version": "1.2.0",
            "_model_name": "LayoutModel",
            "_view_count": null,
            "_view_module": "@jupyter-widgets/base",
            "_view_module_version": "1.2.0",
            "_view_name": "LayoutView",
            "align_content": null,
            "align_items": null,
            "align_self": null,
            "border": null,
            "bottom": null,
            "display": null,
            "flex": null,
            "flex_flow": null,
            "grid_area": null,
            "grid_auto_columns": null,
            "grid_auto_flow": null,
            "grid_auto_rows": null,
            "grid_column": null,
            "grid_gap": null,
            "grid_row": null,
            "grid_template_areas": null,
            "grid_template_columns": null,
            "grid_template_rows": null,
            "height": null,
            "justify_content": null,
            "justify_items": null,
            "left": null,
            "margin": null,
            "max_height": null,
            "max_width": null,
            "min_height": null,
            "min_width": null,
            "object_fit": null,
            "object_position": null,
            "order": null,
            "overflow": null,
            "overflow_x": null,
            "overflow_y": null,
            "padding": null,
            "right": null,
            "top": null,
            "visibility": null,
            "width": null
          }
        },
        "6b02a7f1ff8b4af58e1d499529c1ffdc": {
          "model_module": "@jupyter-widgets/controls",
          "model_name": "DescriptionStyleModel",
          "model_module_version": "1.5.0",
          "state": {
            "_model_module": "@jupyter-widgets/controls",
            "_model_module_version": "1.5.0",
            "_model_name": "DescriptionStyleModel",
            "_view_count": null,
            "_view_module": "@jupyter-widgets/base",
            "_view_module_version": "1.2.0",
            "_view_name": "StyleView",
            "description_width": ""
          }
        },
        "6ca88f18044a4825a7fe5e738950fc09": {
          "model_module": "@jupyter-widgets/base",
          "model_name": "LayoutModel",
          "model_module_version": "1.2.0",
          "state": {
            "_model_module": "@jupyter-widgets/base",
            "_model_module_version": "1.2.0",
            "_model_name": "LayoutModel",
            "_view_count": null,
            "_view_module": "@jupyter-widgets/base",
            "_view_module_version": "1.2.0",
            "_view_name": "LayoutView",
            "align_content": null,
            "align_items": null,
            "align_self": null,
            "border": null,
            "bottom": null,
            "display": null,
            "flex": null,
            "flex_flow": null,
            "grid_area": null,
            "grid_auto_columns": null,
            "grid_auto_flow": null,
            "grid_auto_rows": null,
            "grid_column": null,
            "grid_gap": null,
            "grid_row": null,
            "grid_template_areas": null,
            "grid_template_columns": null,
            "grid_template_rows": null,
            "height": null,
            "justify_content": null,
            "justify_items": null,
            "left": null,
            "margin": null,
            "max_height": null,
            "max_width": null,
            "min_height": null,
            "min_width": null,
            "object_fit": null,
            "object_position": null,
            "order": null,
            "overflow": null,
            "overflow_x": null,
            "overflow_y": null,
            "padding": null,
            "right": null,
            "top": null,
            "visibility": null,
            "width": null
          }
        },
        "45b8d4fba5904035ad0f3c3925691a90": {
          "model_module": "@jupyter-widgets/controls",
          "model_name": "ProgressStyleModel",
          "model_module_version": "1.5.0",
          "state": {
            "_model_module": "@jupyter-widgets/controls",
            "_model_module_version": "1.5.0",
            "_model_name": "ProgressStyleModel",
            "_view_count": null,
            "_view_module": "@jupyter-widgets/base",
            "_view_module_version": "1.2.0",
            "_view_name": "StyleView",
            "bar_color": null,
            "description_width": ""
          }
        },
        "38453ef85220402494915a07e19c6a3c": {
          "model_module": "@jupyter-widgets/base",
          "model_name": "LayoutModel",
          "model_module_version": "1.2.0",
          "state": {
            "_model_module": "@jupyter-widgets/base",
            "_model_module_version": "1.2.0",
            "_model_name": "LayoutModel",
            "_view_count": null,
            "_view_module": "@jupyter-widgets/base",
            "_view_module_version": "1.2.0",
            "_view_name": "LayoutView",
            "align_content": null,
            "align_items": null,
            "align_self": null,
            "border": null,
            "bottom": null,
            "display": null,
            "flex": null,
            "flex_flow": null,
            "grid_area": null,
            "grid_auto_columns": null,
            "grid_auto_flow": null,
            "grid_auto_rows": null,
            "grid_column": null,
            "grid_gap": null,
            "grid_row": null,
            "grid_template_areas": null,
            "grid_template_columns": null,
            "grid_template_rows": null,
            "height": null,
            "justify_content": null,
            "justify_items": null,
            "left": null,
            "margin": null,
            "max_height": null,
            "max_width": null,
            "min_height": null,
            "min_width": null,
            "object_fit": null,
            "object_position": null,
            "order": null,
            "overflow": null,
            "overflow_x": null,
            "overflow_y": null,
            "padding": null,
            "right": null,
            "top": null,
            "visibility": null,
            "width": null
          }
        },
        "b50c4e85e5014eacb65b54b0f2e74b27": {
          "model_module": "@jupyter-widgets/controls",
          "model_name": "DescriptionStyleModel",
          "model_module_version": "1.5.0",
          "state": {
            "_model_module": "@jupyter-widgets/controls",
            "_model_module_version": "1.5.0",
            "_model_name": "DescriptionStyleModel",
            "_view_count": null,
            "_view_module": "@jupyter-widgets/base",
            "_view_module_version": "1.2.0",
            "_view_name": "StyleView",
            "description_width": ""
          }
        }
      }
    }
  },
  "cells": [
    {
      "cell_type": "markdown",
      "metadata": {
        "id": "view-in-github",
        "colab_type": "text"
      },
      "source": [
        "<a href=\"https://colab.research.google.com/github/Stephanie9606/MySQL_BankDB_Analysis/blob/master/Manual_Train_Val_Split_Mulitimodal_EarlyFusion_Memes.ipynb\" target=\"_parent\"><img src=\"https://colab.research.google.com/assets/colab-badge.svg\" alt=\"Open In Colab\"/></a>"
      ]
    },
    {
      "cell_type": "code",
      "execution_count": 1,
      "metadata": {
        "id": "m1En3Ur599pL"
      },
      "outputs": [],
      "source": [
        "import pandas as pd\n",
        "import numpy as np"
      ]
    },
    {
      "cell_type": "code",
      "source": [
        "import tensorflow as tf\n",
        "from tensorflow import keras\n",
        "from tensorflow.keras import applications\n",
        "from tensorflow.keras.preprocessing.image import ImageDataGenerator\n",
        "from tensorflow.keras.models import Model\n",
        "from tensorflow.keras import layers\n",
        "from tensorflow.keras.layers import Dense, Input, Dropout, Flatten, LSTM"
      ],
      "metadata": {
        "id": "xbAyB_Np-MDG"
      },
      "execution_count": 2,
      "outputs": []
    },
    {
      "cell_type": "code",
      "source": [
        "import tensorflow_hub as hub\n",
        "from tensorflow.keras import callbacks\n",
        "from tensorflow.keras import optimizers\n",
        "from tensorflow.keras import utils\n",
        "from tensorflow.keras import models\n",
        "from tensorflow.keras.preprocessing.image import ImageDataGenerator \n",
        "from tensorflow.keras import applications\n",
        "from tensorflow.keras.applications.vgg16 import VGG16\n",
        "from tensorflow.keras.regularizers import l2, l1\n",
        "\n",
        "from sklearn.preprocessing import LabelEncoder\n",
        "from sklearn.model_selection import train_test_split\n",
        "from sklearn.utils import shuffle\n",
        "from sklearn.metrics import confusion_matrix\n",
        "\n",
        "import re\n",
        "import glob\n",
        "import os\n",
        "import cv2\n",
        "import sys\n",
        "import pickle\n",
        "\n",
        "import matplotlib.pyplot as plt\n",
        "%matplotlib inline\n",
        "import seaborn as sns\n",
        "import plotly.express as px\n",
        "import plotly.graph_objects as go\n",
        "\n",
        "from tensorflow.keras.utils import plot_model"
      ],
      "metadata": {
        "id": "PVxdV3GRPMBj"
      },
      "execution_count": 3,
      "outputs": []
    },
    {
      "cell_type": "code",
      "source": [
        "# Set up the device for GPU usage\n",
        "device_name = tf.test.gpu_device_name()\n",
        "if device_name != '/device:GPU:0':\n",
        "  raise SystemError('GPU device not found')\n",
        "print('Found GPU at: {}'.format(device_name))"
      ],
      "metadata": {
        "colab": {
          "base_uri": "https://localhost:8080/"
        },
        "id": "iNfTi74bdWdI",
        "outputId": "e6426122-3ceb-48b3-aece-3ce3758d3b08"
      },
      "execution_count": 4,
      "outputs": [
        {
          "output_type": "stream",
          "name": "stdout",
          "text": [
            "Found GPU at: /device:GPU:0\n"
          ]
        }
      ]
    },
    {
      "cell_type": "code",
      "source": [
        "# connect to google drive for files\n",
        "from google.colab import drive\n",
        "drive.mount('/content/drive')"
      ],
      "metadata": {
        "colab": {
          "base_uri": "https://localhost:8080/"
        },
        "id": "Wu7Zb5lE-MRq",
        "outputId": "7bdf1fa3-47c0-4bfc-defb-d6b503e4b3e1"
      },
      "execution_count": 5,
      "outputs": [
        {
          "output_type": "stream",
          "name": "stdout",
          "text": [
            "Mounted at /content/drive\n"
          ]
        }
      ]
    },
    {
      "cell_type": "markdown",
      "source": [
        "# Data Pre-processing"
      ],
      "metadata": {
        "id": "71i5-crpi2ct"
      }
    },
    {
      "cell_type": "code",
      "source": [
        "# unzip image file\n",
        "!unzip /content/drive/MyDrive/memes_image.zip"
      ],
      "metadata": {
        "id": "Xp4rSb0P-MbO"
      },
      "execution_count": null,
      "outputs": []
    },
    {
      "cell_type": "code",
      "source": [
        "memesDF = pd.read_csv('/content/drive/MyDrive/top5_memes_tidy.tsv', sep='\\t')"
      ],
      "metadata": {
        "id": "b7ahkth_-Mjj"
      },
      "execution_count": 7,
      "outputs": []
    },
    {
      "cell_type": "code",
      "source": [
        "memesDF = memesDF.iloc[:, 2:9]"
      ],
      "metadata": {
        "id": "kA0oxOku-MpV"
      },
      "execution_count": 8,
      "outputs": []
    },
    {
      "cell_type": "code",
      "source": [
        "memesDF['AltText'] = memesDF['AltText'].astype(pd.StringDtype())\n",
        "memesDF['MemeLabel'] = memesDF['MemeLabel'].astype(pd.StringDtype())\n",
        "memesDF['CaptionText'] = memesDF['CaptionText'].astype(pd.StringDtype())\n",
        "memesDF['HashId'] = memesDF['HashId'].astype(pd.StringDtype())\n",
        "memesDF['ImageURL'] = memesDF['ImageURL'].astype(pd.StringDtype())\n",
        "memesDF['ImagePath'] = memesDF['ImagePath'].astype(pd.StringDtype())\n",
        "memesDF['Image'] = memesDF['Image'].astype(pd.StringDtype())"
      ],
      "metadata": {
        "id": "oyKqH4Kn-Muu"
      },
      "execution_count": 9,
      "outputs": []
    },
    {
      "cell_type": "code",
      "source": [
        "# Only get two label for Binary Classification\n",
        "meme2cDF = memesDF[(memesDF['MemeLabel'] == \"Scared Cat\") | (memesDF['MemeLabel'] == \"Who Killed Hannibal\")]"
      ],
      "metadata": {
        "id": "MEi0H4ch-M5X"
      },
      "execution_count": 10,
      "outputs": []
    },
    {
      "cell_type": "code",
      "source": [
        "meme2cDF.head(3)"
      ],
      "metadata": {
        "colab": {
          "base_uri": "https://localhost:8080/",
          "height": 326
        },
        "id": "CQoxoFb0-M-Z",
        "outputId": "793741cd-1596-4e9e-ec8a-f649fbcf858d"
      },
      "execution_count": 11,
      "outputs": [
        {
          "output_type": "execute_result",
          "data": {
            "text/plain": [
              "                                             AltText  \\\n",
              "0  Coke in Regal Cinemas > Pepsi in Regal Cinemas...   \n",
              "1  Who Killed Hannibal | NORTH KOREA PEOPLE WITH ...   \n",
              "2  Who Killed Hannibal | MINECRAFT CAVE UPDATE MI...   \n",
              "\n",
              "                                         CaptionText  \\\n",
              "0                                WHO WANTS A PEPSI?    \n",
              "1   NORTH KOREA PEOPLE WITH CORONAVIRUS WE HAVE 0...   \n",
              "2                   MINECRAFT CAVE UPDATE MINECRAFT    \n",
              "\n",
              "                          ImageURL  \\\n",
              "0  http://i.imgflip.com/3xa87f.jpg   \n",
              "1  http://i.imgflip.com/3v9nm3.jpg   \n",
              "2  http://i.imgflip.com/3xjml3.jpg   \n",
              "\n",
              "                                              HashId            MemeLabel  \\\n",
              "0  b54073fe552aa582c57a1a39e9db3f550067775516b844...  Who Killed Hannibal   \n",
              "1  55a37d7aac7c769f4d517ea20b50c8ffa8e545491e45c1...  Who Killed Hannibal   \n",
              "2  ba01cf5a250ad0d9dc2901c5250ddf0e49abc8fb8e0a80...  Who Killed Hannibal   \n",
              "\n",
              "                         ImagePath       Image  \n",
              "0  /content/memes_image/3xa87f.jpg  3xa87f.jpg  \n",
              "1  /content/memes_image/3v9nm3.jpg  3v9nm3.jpg  \n",
              "2  /content/memes_image/3xjml3.jpg  3xjml3.jpg  "
            ],
            "text/html": [
              "\n",
              "  <div id=\"df-ffdadd2c-f8e2-4289-a1e8-e795f87eb12b\">\n",
              "    <div class=\"colab-df-container\">\n",
              "      <div>\n",
              "<style scoped>\n",
              "    .dataframe tbody tr th:only-of-type {\n",
              "        vertical-align: middle;\n",
              "    }\n",
              "\n",
              "    .dataframe tbody tr th {\n",
              "        vertical-align: top;\n",
              "    }\n",
              "\n",
              "    .dataframe thead th {\n",
              "        text-align: right;\n",
              "    }\n",
              "</style>\n",
              "<table border=\"1\" class=\"dataframe\">\n",
              "  <thead>\n",
              "    <tr style=\"text-align: right;\">\n",
              "      <th></th>\n",
              "      <th>AltText</th>\n",
              "      <th>CaptionText</th>\n",
              "      <th>ImageURL</th>\n",
              "      <th>HashId</th>\n",
              "      <th>MemeLabel</th>\n",
              "      <th>ImagePath</th>\n",
              "      <th>Image</th>\n",
              "    </tr>\n",
              "  </thead>\n",
              "  <tbody>\n",
              "    <tr>\n",
              "      <th>0</th>\n",
              "      <td>Coke in Regal Cinemas &gt; Pepsi in Regal Cinemas...</td>\n",
              "      <td>WHO WANTS A PEPSI?</td>\n",
              "      <td>http://i.imgflip.com/3xa87f.jpg</td>\n",
              "      <td>b54073fe552aa582c57a1a39e9db3f550067775516b844...</td>\n",
              "      <td>Who Killed Hannibal</td>\n",
              "      <td>/content/memes_image/3xa87f.jpg</td>\n",
              "      <td>3xa87f.jpg</td>\n",
              "    </tr>\n",
              "    <tr>\n",
              "      <th>1</th>\n",
              "      <td>Who Killed Hannibal | NORTH KOREA PEOPLE WITH ...</td>\n",
              "      <td>NORTH KOREA PEOPLE WITH CORONAVIRUS WE HAVE 0...</td>\n",
              "      <td>http://i.imgflip.com/3v9nm3.jpg</td>\n",
              "      <td>55a37d7aac7c769f4d517ea20b50c8ffa8e545491e45c1...</td>\n",
              "      <td>Who Killed Hannibal</td>\n",
              "      <td>/content/memes_image/3v9nm3.jpg</td>\n",
              "      <td>3v9nm3.jpg</td>\n",
              "    </tr>\n",
              "    <tr>\n",
              "      <th>2</th>\n",
              "      <td>Who Killed Hannibal | MINECRAFT CAVE UPDATE MI...</td>\n",
              "      <td>MINECRAFT CAVE UPDATE MINECRAFT</td>\n",
              "      <td>http://i.imgflip.com/3xjml3.jpg</td>\n",
              "      <td>ba01cf5a250ad0d9dc2901c5250ddf0e49abc8fb8e0a80...</td>\n",
              "      <td>Who Killed Hannibal</td>\n",
              "      <td>/content/memes_image/3xjml3.jpg</td>\n",
              "      <td>3xjml3.jpg</td>\n",
              "    </tr>\n",
              "  </tbody>\n",
              "</table>\n",
              "</div>\n",
              "      <button class=\"colab-df-convert\" onclick=\"convertToInteractive('df-ffdadd2c-f8e2-4289-a1e8-e795f87eb12b')\"\n",
              "              title=\"Convert this dataframe to an interactive table.\"\n",
              "              style=\"display:none;\">\n",
              "        \n",
              "  <svg xmlns=\"http://www.w3.org/2000/svg\" height=\"24px\"viewBox=\"0 0 24 24\"\n",
              "       width=\"24px\">\n",
              "    <path d=\"M0 0h24v24H0V0z\" fill=\"none\"/>\n",
              "    <path d=\"M18.56 5.44l.94 2.06.94-2.06 2.06-.94-2.06-.94-.94-2.06-.94 2.06-2.06.94zm-11 1L8.5 8.5l.94-2.06 2.06-.94-2.06-.94L8.5 2.5l-.94 2.06-2.06.94zm10 10l.94 2.06.94-2.06 2.06-.94-2.06-.94-.94-2.06-.94 2.06-2.06.94z\"/><path d=\"M17.41 7.96l-1.37-1.37c-.4-.4-.92-.59-1.43-.59-.52 0-1.04.2-1.43.59L10.3 9.45l-7.72 7.72c-.78.78-.78 2.05 0 2.83L4 21.41c.39.39.9.59 1.41.59.51 0 1.02-.2 1.41-.59l7.78-7.78 2.81-2.81c.8-.78.8-2.07 0-2.86zM5.41 20L4 18.59l7.72-7.72 1.47 1.35L5.41 20z\"/>\n",
              "  </svg>\n",
              "      </button>\n",
              "      \n",
              "  <style>\n",
              "    .colab-df-container {\n",
              "      display:flex;\n",
              "      flex-wrap:wrap;\n",
              "      gap: 12px;\n",
              "    }\n",
              "\n",
              "    .colab-df-convert {\n",
              "      background-color: #E8F0FE;\n",
              "      border: none;\n",
              "      border-radius: 50%;\n",
              "      cursor: pointer;\n",
              "      display: none;\n",
              "      fill: #1967D2;\n",
              "      height: 32px;\n",
              "      padding: 0 0 0 0;\n",
              "      width: 32px;\n",
              "    }\n",
              "\n",
              "    .colab-df-convert:hover {\n",
              "      background-color: #E2EBFA;\n",
              "      box-shadow: 0px 1px 2px rgba(60, 64, 67, 0.3), 0px 1px 3px 1px rgba(60, 64, 67, 0.15);\n",
              "      fill: #174EA6;\n",
              "    }\n",
              "\n",
              "    [theme=dark] .colab-df-convert {\n",
              "      background-color: #3B4455;\n",
              "      fill: #D2E3FC;\n",
              "    }\n",
              "\n",
              "    [theme=dark] .colab-df-convert:hover {\n",
              "      background-color: #434B5C;\n",
              "      box-shadow: 0px 1px 3px 1px rgba(0, 0, 0, 0.15);\n",
              "      filter: drop-shadow(0px 1px 2px rgba(0, 0, 0, 0.3));\n",
              "      fill: #FFFFFF;\n",
              "    }\n",
              "  </style>\n",
              "\n",
              "      <script>\n",
              "        const buttonEl =\n",
              "          document.querySelector('#df-ffdadd2c-f8e2-4289-a1e8-e795f87eb12b button.colab-df-convert');\n",
              "        buttonEl.style.display =\n",
              "          google.colab.kernel.accessAllowed ? 'block' : 'none';\n",
              "\n",
              "        async function convertToInteractive(key) {\n",
              "          const element = document.querySelector('#df-ffdadd2c-f8e2-4289-a1e8-e795f87eb12b');\n",
              "          const dataTable =\n",
              "            await google.colab.kernel.invokeFunction('convertToInteractive',\n",
              "                                                     [key], {});\n",
              "          if (!dataTable) return;\n",
              "\n",
              "          const docLinkHtml = 'Like what you see? Visit the ' +\n",
              "            '<a target=\"_blank\" href=https://colab.research.google.com/notebooks/data_table.ipynb>data table notebook</a>'\n",
              "            + ' to learn more about interactive tables.';\n",
              "          element.innerHTML = '';\n",
              "          dataTable['output_type'] = 'display_data';\n",
              "          await google.colab.output.renderOutput(dataTable, element);\n",
              "          const docLink = document.createElement('div');\n",
              "          docLink.innerHTML = docLinkHtml;\n",
              "          element.appendChild(docLink);\n",
              "        }\n",
              "      </script>\n",
              "    </div>\n",
              "  </div>\n",
              "  "
            ]
          },
          "metadata": {},
          "execution_count": 11
        }
      ]
    },
    {
      "cell_type": "code",
      "source": [
        "# train test split\n",
        "from sklearn.model_selection import train_test_split\n",
        "\n",
        "me_trainDF, me_testDF = train_test_split(meme2cDF, test_size=0.25, random_state=15)"
      ],
      "metadata": {
        "id": "Xx-me6waCM6H"
      },
      "execution_count": 12,
      "outputs": []
    },
    {
      "cell_type": "code",
      "source": [
        "me_trainDF, me_valDF = train_test_split(me_trainDF, test_size=0.25, random_state=13)"
      ],
      "metadata": {
        "id": "YE6D0Bwl1S6A"
      },
      "execution_count": 13,
      "outputs": []
    },
    {
      "cell_type": "code",
      "source": [
        "n1 = me_trainDF.index\n",
        "n2 = me_valDF.index\n",
        "n3 = me_testDF.index\n",
        "print(n1)\n",
        "print(n2)\n",
        "print(n3)"
      ],
      "metadata": {
        "colab": {
          "base_uri": "https://localhost:8080/"
        },
        "id": "gHOvYQ2lGKJC",
        "outputId": "b2e82a7c-871d-4c18-9ee6-0ab593447cf3"
      },
      "execution_count": 14,
      "outputs": [
        {
          "output_type": "stream",
          "name": "stdout",
          "text": [
            "Int64Index([ 499,  340, 2383, 3287,  716, 1176,  509,  762,  953,  168,\n",
            "            ...\n",
            "            2397, 2845, 2677, 3352,  542, 3218, 2606,  336,  177, 2711],\n",
            "           dtype='int64', length=1308)\n",
            "Int64Index([2289, 3195, 2359, 2478,  834, 2530,  641, 3249,  204,  996,\n",
            "            ...\n",
            "            3006, 2699,  586,  140, 1017, 1020,  722, 3372, 2686,   49],\n",
            "           dtype='int64', length=437)\n",
            "Int64Index([2944, 3167, 2649,  164, 2661, 2822, 1158, 3348,  484,  721,\n",
            "            ...\n",
            "            2717,  896,  159,  200,  150,  573, 2854, 2993,  292,  423],\n",
            "           dtype='int64', length=582)\n"
          ]
        }
      ]
    },
    {
      "cell_type": "code",
      "source": [
        "me_trainDF = me_trainDF.iloc[0:1280,:]\n",
        "me_valDF = me_valDF.iloc[0:416,:]"
      ],
      "metadata": {
        "id": "opm2DWLoMWYD"
      },
      "execution_count": 15,
      "outputs": []
    },
    {
      "cell_type": "markdown",
      "source": [
        "# Image Pre-processing"
      ],
      "metadata": {
        "id": "kZ6eheOHVtEM"
      }
    },
    {
      "cell_type": "code",
      "source": [
        " # Loading training data\n",
        "img_height = 224\n",
        "img_width = 224\n",
        "batch_size = 32\n",
        "\n",
        "train_datagen = ImageDataGenerator(preprocessing_function=applications.vgg16.preprocess_input, rescale=1./255.)\n",
        "val_datagen = ImageDataGenerator(preprocessing_function=applications.vgg16.preprocess_input, rescale=1./255.)\n",
        "train_generator = train_datagen.flow_from_dataframe(dataframe=me_trainDF, \n",
        "                                                    directory=None, \n",
        "                                                    x_col=\"ImagePath\", \n",
        "                                                    y_col=\"MemeLabel\", \n",
        "                                                    class_mode=\"binary\", \n",
        "                                                    target_size=(img_height, img_width), \n",
        "                                                    batch_size=batch_size,\n",
        "                                                    shuffle=False)\n",
        "\n",
        "valid_generator = val_datagen.flow_from_dataframe(dataframe=me_valDF, \n",
        "                                                    directory=None, \n",
        "                                                    x_col=\"ImagePath\", \n",
        "                                                    y_col=\"MemeLabel\", \n",
        "                                                    class_mode=\"binary\", \n",
        "                                                    target_size=(img_height, img_width), \n",
        "                                                    batch_size=batch_size,\n",
        "                                                    shuffle=False)\n",
        "\n",
        "print(f\"Class labels: {train_generator.class_indices}\")\n",
        "print(f\"Class labels: {valid_generator.class_indices}\")\n",
        "\n",
        "#step_size = train_generator.n//train_generator.batch_size"
      ],
      "metadata": {
        "colab": {
          "base_uri": "https://localhost:8080/"
        },
        "outputId": "bed7245c-56cf-4bf3-a2fa-438ba341c529",
        "id": "V_FO4DQWOPEH"
      },
      "execution_count": 16,
      "outputs": [
        {
          "output_type": "stream",
          "name": "stdout",
          "text": [
            "Found 1280 validated image filenames belonging to 2 classes.\n",
            "Found 416 validated image filenames belonging to 2 classes.\n",
            "Class labels: {'Scared Cat': 0, 'Who Killed Hannibal': 1}\n",
            "Class labels: {'Scared Cat': 0, 'Who Killed Hannibal': 1}\n"
          ]
        }
      ]
    },
    {
      "cell_type": "code",
      "source": [
        "images, labels = next(train_generator)\n",
        "\n",
        "print(images.dtype, images.shape)\n",
        "print(labels.dtype, labels.shape)"
      ],
      "metadata": {
        "colab": {
          "base_uri": "https://localhost:8080/"
        },
        "id": "VyhGT57flzTp",
        "outputId": "33cabbb3-ceed-41b8-fb9c-2a970a0aad80"
      },
      "execution_count": 17,
      "outputs": [
        {
          "output_type": "stream",
          "name": "stdout",
          "text": [
            "float32 (32, 224, 224, 3)\n",
            "float32 (32,)\n"
          ]
        }
      ]
    },
    {
      "cell_type": "code",
      "source": [
        "# convert generator to tf.dataset: image_train_data, image_val_data\n",
        "image_train_data = tf.data.Dataset.from_generator(\n",
        "    lambda: train_generator, \n",
        "    output_types=(tf.float32, tf.float32), \n",
        "    output_shapes=([32,224,224,3], [32,]) # based on batch_size change\n",
        ")\n",
        "\n",
        "image_val_data = tf.data.Dataset.from_generator(\n",
        "    lambda: valid_generator, \n",
        "    output_types=(tf.float32, tf.float32), \n",
        "    output_shapes=([32,224,224,3], [32,])\n",
        ")"
      ],
      "metadata": {
        "id": "ed4h-saZeULz"
      },
      "execution_count": 18,
      "outputs": []
    },
    {
      "cell_type": "code",
      "source": [
        "# check data's structure\n",
        "image_train_data.element_spec\n",
        "image_val_data.element_spec"
      ],
      "metadata": {
        "id": "WrwPFBiEx0NL",
        "colab": {
          "base_uri": "https://localhost:8080/"
        },
        "outputId": "edbc0c2d-fe3b-459e-c792-258613511b3f"
      },
      "execution_count": 19,
      "outputs": [
        {
          "output_type": "execute_result",
          "data": {
            "text/plain": [
              "(TensorSpec(shape=(32, 224, 224, 3), dtype=tf.float32, name=None),\n",
              " TensorSpec(shape=(32,), dtype=tf.float32, name=None))"
            ]
          },
          "metadata": {},
          "execution_count": 19
        }
      ]
    },
    {
      "cell_type": "code",
      "source": [
        "# image train, val batch drop remainder\n",
        "#image_train_data = image_train_data.unbatch()\n",
        "#image_train_data = image_train_data.batch(32, drop_remainder=True)\n",
        "\n",
        "#image_val_data = image_val_data.unbatch()\n",
        "#image_val_data = image_val_data.batch(32, drop_remainder=True)\n",
        "\n",
        "#image_train_data.element_spec\n",
        "#image_val_data.element_spec"
      ],
      "metadata": {
        "id": "cKoSAWTh0yYA"
      },
      "execution_count": 20,
      "outputs": []
    },
    {
      "cell_type": "code",
      "source": [
        "# Loading testing data\n",
        "test_datagen = ImageDataGenerator(preprocessing_function=applications.vgg16.preprocess_input, rescale=1./255.)\n",
        "batch_size = 32\n",
        "\n",
        "test_generator = test_datagen.flow_from_dataframe(dataframe=me_testDF, \n",
        "                                                  directory=None, \n",
        "                                                  x_col=\"ImagePath\", \n",
        "                                                  y_col=\"MemeLabel\", \n",
        "                                                  class_mode=\"binary\", \n",
        "                                                  target_size=(img_height, img_width),\n",
        "                                                  batch_size=batch_size,\n",
        "                                                  shuffle=False)\n",
        "\n",
        "print(f\"Class labels: {test_generator.class_indices}\")"
      ],
      "metadata": {
        "colab": {
          "base_uri": "https://localhost:8080/"
        },
        "id": "3-E4ySUXv8hK",
        "outputId": "c537b020-3800-4f33-fcb6-e42d51118c6f"
      },
      "execution_count": 21,
      "outputs": [
        {
          "output_type": "stream",
          "name": "stdout",
          "text": [
            "Found 582 validated image filenames belonging to 2 classes.\n",
            "Class labels: {'Scared Cat': 0, 'Who Killed Hannibal': 1}\n"
          ]
        }
      ]
    },
    {
      "cell_type": "code",
      "source": [
        "images, labels = next(test_generator)\n",
        "\n",
        "print(images.dtype, images.shape)\n",
        "print(labels.dtype, labels.shape)"
      ],
      "metadata": {
        "colab": {
          "base_uri": "https://localhost:8080/"
        },
        "id": "SAhfm-huxoRT",
        "outputId": "52a6f018-645a-409d-ca7f-d9c31a4e1c36"
      },
      "execution_count": 22,
      "outputs": [
        {
          "output_type": "stream",
          "name": "stdout",
          "text": [
            "float32 (32, 224, 224, 3)\n",
            "float32 (32,)\n"
          ]
        }
      ]
    },
    {
      "cell_type": "code",
      "source": [
        "# convert generator to tf.dataset: image_test_data\n",
        "image_test_data = tf.data.Dataset.from_generator(\n",
        "    lambda: valid_generator, \n",
        "    output_types=(tf.float32, tf.float32), \n",
        "    output_shapes=([32,224,224,3], [32,])\n",
        ")"
      ],
      "metadata": {
        "id": "be2F8HIYv9wI"
      },
      "execution_count": 23,
      "outputs": []
    },
    {
      "cell_type": "code",
      "source": [
        "image_test_data.element_spec"
      ],
      "metadata": {
        "colab": {
          "base_uri": "https://localhost:8080/"
        },
        "id": "H_366KOBxwzN",
        "outputId": "be7974a3-50f7-49cd-e385-8d9d35b77f13"
      },
      "execution_count": 24,
      "outputs": [
        {
          "output_type": "execute_result",
          "data": {
            "text/plain": [
              "(TensorSpec(shape=(32, 224, 224, 3), dtype=tf.float32, name=None),\n",
              " TensorSpec(shape=(32,), dtype=tf.float32, name=None))"
            ]
          },
          "metadata": {},
          "execution_count": 24
        }
      ]
    },
    {
      "cell_type": "code",
      "source": [
        "# image test batch drop remainder\n",
        "image_test_data = image_test_data.unbatch()\n",
        "image_test_data = image_test_data.batch(32, drop_remainder=True)\n",
        "\n",
        "image_test_data.element_spec"
      ],
      "metadata": {
        "colab": {
          "base_uri": "https://localhost:8080/"
        },
        "id": "xSlRqM7n2l2B",
        "outputId": "9bdfcb16-18f4-4c44-e5c8-5d5bdf9f570f"
      },
      "execution_count": 25,
      "outputs": [
        {
          "output_type": "execute_result",
          "data": {
            "text/plain": [
              "(TensorSpec(shape=(32, 224, 224, 3), dtype=tf.float32, name=None),\n",
              " TensorSpec(shape=(32,), dtype=tf.float32, name=None))"
            ]
          },
          "metadata": {},
          "execution_count": 25
        }
      ]
    },
    {
      "cell_type": "markdown",
      "source": [
        "# Text Pre-processing for BERT"
      ],
      "metadata": {
        "id": "mec0C6UZEv4L"
      }
    },
    {
      "cell_type": "markdown",
      "source": [
        "BERT: [CLS] + text + [SEP]"
      ],
      "metadata": {
        "id": "VyvkeCVaE9EB"
      }
    },
    {
      "cell_type": "code",
      "source": [
        "!pip install -q transformers\n",
        "\n",
        "from transformers import BertTokenizer, TFBertForSequenceClassification\n",
        "from transformers import InputExample, InputFeatures"
      ],
      "metadata": {
        "colab": {
          "base_uri": "https://localhost:8080/"
        },
        "id": "q35xH34CyDDX",
        "outputId": "aa4de994-e031-420e-fa37-32359963f2e3"
      },
      "execution_count": 26,
      "outputs": [
        {
          "output_type": "stream",
          "name": "stdout",
          "text": [
            "\u001b[K     |████████████████████████████████| 4.0 MB 4.3 MB/s \n",
            "\u001b[K     |████████████████████████████████| 895 kB 50.4 MB/s \n",
            "\u001b[K     |████████████████████████████████| 6.5 MB 38.1 MB/s \n",
            "\u001b[K     |████████████████████████████████| 596 kB 33.2 MB/s \n",
            "\u001b[K     |████████████████████████████████| 77 kB 6.0 MB/s \n",
            "\u001b[?25h"
          ]
        }
      ]
    },
    {
      "cell_type": "code",
      "source": [
        "!pip install bert-for-tf2"
      ],
      "metadata": {
        "colab": {
          "base_uri": "https://localhost:8080/"
        },
        "id": "gV7HeND74GiT",
        "outputId": "b1408db4-c393-46cb-9381-3b5145b6b43e"
      },
      "execution_count": 27,
      "outputs": [
        {
          "output_type": "stream",
          "name": "stdout",
          "text": [
            "Collecting bert-for-tf2\n",
            "  Downloading bert-for-tf2-0.14.9.tar.gz (41 kB)\n",
            "\u001b[?25l\r\u001b[K     |████████                        | 10 kB 19.1 MB/s eta 0:00:01\r\u001b[K     |████████████████                | 20 kB 8.8 MB/s eta 0:00:01\r\u001b[K     |███████████████████████▉        | 30 kB 7.5 MB/s eta 0:00:01\r\u001b[K     |███████████████████████████████▉| 40 kB 3.5 MB/s eta 0:00:01\r\u001b[K     |████████████████████████████████| 41 kB 124 kB/s \n",
            "\u001b[?25hCollecting py-params>=0.9.6\n",
            "  Downloading py-params-0.10.2.tar.gz (7.4 kB)\n",
            "Collecting params-flow>=0.8.0\n",
            "  Downloading params-flow-0.8.2.tar.gz (22 kB)\n",
            "Requirement already satisfied: numpy in /usr/local/lib/python3.7/dist-packages (from params-flow>=0.8.0->bert-for-tf2) (1.21.5)\n",
            "Requirement already satisfied: tqdm in /usr/local/lib/python3.7/dist-packages (from params-flow>=0.8.0->bert-for-tf2) (4.63.0)\n",
            "Building wheels for collected packages: bert-for-tf2, params-flow, py-params\n",
            "  Building wheel for bert-for-tf2 (setup.py) ... \u001b[?25l\u001b[?25hdone\n",
            "  Created wheel for bert-for-tf2: filename=bert_for_tf2-0.14.9-py3-none-any.whl size=30535 sha256=cfd88d892cf940b8805bf486a97a4ff288536b29b2876ce9c06b911d45f6dbcb\n",
            "  Stored in directory: /root/.cache/pip/wheels/47/b6/e5/8c76ec779f54bc5c2f1b57d2200bb9c77616da83873e8acb53\n",
            "  Building wheel for params-flow (setup.py) ... \u001b[?25l\u001b[?25hdone\n",
            "  Created wheel for params-flow: filename=params_flow-0.8.2-py3-none-any.whl size=19472 sha256=77f934195c9f80e51475edeca51c75c65bdec50577a657e42f6776ec5b5de9f8\n",
            "  Stored in directory: /root/.cache/pip/wheels/0e/fc/d2/a44fff33af0f233d7def6e7de413006d57c10e10ad736fe8f5\n",
            "  Building wheel for py-params (setup.py) ... \u001b[?25l\u001b[?25hdone\n",
            "  Created wheel for py-params: filename=py_params-0.10.2-py3-none-any.whl size=7911 sha256=0b541f1005e58388719e017304f7f1fcb41b82b39b479b138b2b15e789da1ea2\n",
            "  Stored in directory: /root/.cache/pip/wheels/e1/11/67/33cc51bbee127cb8fb2ba549cd29109b2f22da43ddf9969716\n",
            "Successfully built bert-for-tf2 params-flow py-params\n",
            "Installing collected packages: py-params, params-flow, bert-for-tf2\n",
            "Successfully installed bert-for-tf2-0.14.9 params-flow-0.8.2 py-params-0.10.2\n"
          ]
        }
      ]
    },
    {
      "cell_type": "code",
      "source": [
        "#!pip3 install tensorflow_hub\n",
        "\n",
        "import tensorflow_hub as hub\n",
        "import tensorflow as tf\n",
        "from tensorflow.keras.models import Model \n",
        "import bert"
      ],
      "metadata": {
        "id": "IdvndUUKc3PO"
      },
      "execution_count": 28,
      "outputs": []
    },
    {
      "cell_type": "code",
      "source": [
        "tokenizer = BertTokenizer.from_pretrained(\"bert-base-uncased\")"
      ],
      "metadata": {
        "colab": {
          "base_uri": "https://localhost:8080/",
          "height": 0,
          "referenced_widgets": [
            "7d051f25585e461c98c3eafb0625ccea",
            "edeacd6048904ec4afc58f2521f904c8",
            "f0f32d8aeaea422991b314e4ff6956c5",
            "401d0137e0d24a1fbe6960a102b1b911",
            "b33cc4e65d87430c8e0c97e682e7784d",
            "88c23f2d1c1d49a493110cf06bbc219b",
            "009d47029f8b4b66a2c483929672c633",
            "a900e5c80fc441f2a586d0df00392f94",
            "147c161a83434742848a2996aa2a1082",
            "f596207b25c9487fa79e43d5aa256956",
            "991259faf66e44d68d1fa79725620d00",
            "5b67a524339f499d8ddd1ddcd4a83041",
            "1b2f8749dd434636a278baa69f10b7c0",
            "664eb0fb0f1443b1b42a44d465cda352",
            "4e0483953ddc412d970d8044a04345bb",
            "7558a66fe02443bb89ced6d5f248f1f1",
            "ce2e830d06d246de8944f654d4444c73",
            "1d9a68e2fa5c49ed9c126fc55cafad7a",
            "07c73f61510c48a09d672cd80bba5730",
            "8a94e54625384cc29783598076371b83",
            "108707045695456a8828d74b6f20e170",
            "0402b75b790b48d4be787df3a676dab2",
            "037eea35382b4dc4aa14d8c0a7c91b63",
            "8d8fd70bea624ae4b8b32f2e85a9c4db",
            "94c5c0f300ef4834b22d09e5107eec07",
            "c1d5c581b28b462893e9c4b8ed88f359",
            "dc607df4f3a24f68afa7998877057034",
            "d2ce2182d7a9433ea54c1e952f34e191",
            "6b02a7f1ff8b4af58e1d499529c1ffdc",
            "6ca88f18044a4825a7fe5e738950fc09",
            "45b8d4fba5904035ad0f3c3925691a90",
            "38453ef85220402494915a07e19c6a3c",
            "b50c4e85e5014eacb65b54b0f2e74b27"
          ]
        },
        "id": "OQ4VMZIiP5nA",
        "outputId": "7f4908a1-78ac-417c-af3a-1c1ec8d907fe"
      },
      "execution_count": 29,
      "outputs": [
        {
          "output_type": "display_data",
          "data": {
            "text/plain": [
              "Downloading:   0%|          | 0.00/226k [00:00<?, ?B/s]"
            ],
            "application/vnd.jupyter.widget-view+json": {
              "version_major": 2,
              "version_minor": 0,
              "model_id": "7d051f25585e461c98c3eafb0625ccea"
            }
          },
          "metadata": {}
        },
        {
          "output_type": "display_data",
          "data": {
            "text/plain": [
              "Downloading:   0%|          | 0.00/28.0 [00:00<?, ?B/s]"
            ],
            "application/vnd.jupyter.widget-view+json": {
              "version_major": 2,
              "version_minor": 0,
              "model_id": "5b67a524339f499d8ddd1ddcd4a83041"
            }
          },
          "metadata": {}
        },
        {
          "output_type": "display_data",
          "data": {
            "text/plain": [
              "Downloading:   0%|          | 0.00/570 [00:00<?, ?B/s]"
            ],
            "application/vnd.jupyter.widget-view+json": {
              "version_major": 2,
              "version_minor": 0,
              "model_id": "037eea35382b4dc4aa14d8c0a7c91b63"
            }
          },
          "metadata": {}
        }
      ]
    },
    {
      "cell_type": "code",
      "source": [
        "# convert_data_to_examples: accept train and test datasets and convert each row into an InputExample object.\n",
        "def convert_data_to_examples(train, val, test, DATA_COLUMN, LABEL_COLUMN): \n",
        "  train_InputExamples = train.apply(lambda x: InputExample(guid=None, # Globally unique ID for bookkeeping, unused in this case\n",
        "                                                          text_a = x[DATA_COLUMN], \n",
        "                                                          text_b = None, \n",
        "                                                          label = x[LABEL_COLUMN]), axis = 1)\n",
        "\n",
        "  validation_InputExamples = val.apply(lambda x: InputExample(guid=None,\n",
        "                                                          text_a = x[DATA_COLUMN], \n",
        "                                                          text_b = None, \n",
        "                                                          label = x[LABEL_COLUMN]), axis = 1)\n",
        "  \n",
        "  test_InputExamples = test.apply(lambda x: InputExample(guid=None,\n",
        "                                                          text_a = x[DATA_COLUMN], \n",
        "                                                          text_b = None, \n",
        "                                                          label = x[LABEL_COLUMN]), axis = 1)  \n",
        "  \n",
        "  return train_InputExamples, validation_InputExamples, test_InputExamples\n",
        "\n",
        "  train_InputExamples, validation_InputExamples, test_InputExamples = convert_data_to_examples(me_trainDF,\n",
        "                                                                                               me_valDF, \n",
        "                                                                                               me_testDF, \n",
        "                                                                                              'CaptionText', \n",
        "                                                                                              'MemeLabel')"
      ],
      "metadata": {
        "id": "dWQ0dNwlB5TE"
      },
      "execution_count": 30,
      "outputs": []
    },
    {
      "cell_type": "code",
      "source": [
        "# convert_examples_to_tf_dataset: tokenize the InputExample objects, then create the required input format with the tokenized objects \n",
        "# finally, create an input dataset that we can feed to the model.\n",
        "def convert_examples_to_tf_dataset(examples, tokenizer, max_length=128):\n",
        "    features = [] # -> will hold InputFeatures to be converted later\n",
        "\n",
        "    for e in examples:\n",
        "        input_dict = tokenizer.encode_plus(\n",
        "            e.text_a,\n",
        "            add_special_tokens=True,\n",
        "            max_length=max_length, # max_length\n",
        "            return_token_type_ids=True,\n",
        "            return_attention_mask=True,\n",
        "            pad_to_max_length=True, # paddings\n",
        "            truncation=True\n",
        "        )\n",
        "        \n",
        "        #print(len(input_dict))\n",
        "\n",
        "        input_ids, token_type_ids, attention_mask = (input_dict[\"input_ids\"],\n",
        "            input_dict[\"token_type_ids\"], input_dict['attention_mask'])\n",
        "\n",
        "        features.append(\n",
        "            InputFeatures(\n",
        "                input_ids=input_ids, attention_mask=attention_mask, token_type_ids=token_type_ids, label=e.label\n",
        "            )\n",
        "        )\n",
        "    def gen():\n",
        "        for f in features:\n",
        "            yield (\n",
        "                  f.input_ids,\n",
        "                  f.attention_mask,\n",
        "                  f.token_type_ids\n",
        "                ,\n",
        "                # f.label,\n",
        "            )\n",
        "\n",
        "    return tf.data.Dataset.from_generator(\n",
        "        gen,\n",
        "        (tf.int32, tf.int32, tf.int32),\n",
        "        (\n",
        "              tf.TensorShape([128]),\n",
        "              tf.TensorShape([128]),\n",
        "              tf.TensorShape([128])\n",
        "            ,\n",
        "            # tf.TensorShape([]),\n",
        "        ),\n",
        "    )\n",
        "\n",
        "DATA_COLUMN = 'CaptionText'\n",
        "LABEL_COLUMN = 'MemeLabel'"
      ],
      "metadata": {
        "id": "QXhnsttwB5by"
      },
      "execution_count": 31,
      "outputs": []
    },
    {
      "cell_type": "code",
      "source": [
        "# call above function\n",
        "train_InputExamples, validation_InputExamples, test_InputExamples = convert_data_to_examples(me_trainDF, me_valDF, me_testDF, DATA_COLUMN, LABEL_COLUMN)\n",
        "\n",
        "text_train_data = convert_examples_to_tf_dataset(list(train_InputExamples), tokenizer)\n",
        "text_train_data = text_train_data.batch(32, drop_remainder=True)\n",
        "\n",
        "text_val_data = convert_examples_to_tf_dataset(list(validation_InputExamples), tokenizer)\n",
        "text_val_data = text_val_data.batch(32, drop_remainder=True)\n",
        "\n",
        "text_test_data = convert_examples_to_tf_dataset(list(test_InputExamples), tokenizer)\n",
        "text_test_data = text_test_data.batch(32, drop_remainder=True)"
      ],
      "metadata": {
        "colab": {
          "base_uri": "https://localhost:8080/"
        },
        "id": "Z_HkTDdHB5i_",
        "outputId": "67a7537d-f117-4f96-a238-95f1f934c2dd"
      },
      "execution_count": 32,
      "outputs": [
        {
          "output_type": "stream",
          "name": "stderr",
          "text": [
            "/usr/local/lib/python3.7/dist-packages/transformers/tokenization_utils_base.py:2269: FutureWarning: The `pad_to_max_length` argument is deprecated and will be removed in a future version, use `padding=True` or `padding='longest'` to pad to the longest sequence in the batch, or use `padding='max_length'` to pad to a max length. In this case, you can give a specific length with `max_length` (e.g. `max_length=45`) or leave max_length to None to pad to the maximal input size of the model (e.g. 512 for Bert).\n",
            "  FutureWarning,\n"
          ]
        }
      ]
    },
    {
      "cell_type": "code",
      "source": [
        "text_train_data.element_spec"
      ],
      "metadata": {
        "colab": {
          "base_uri": "https://localhost:8080/"
        },
        "id": "dvEaUEVCuLfb",
        "outputId": "9686817c-ae64-4fcd-c134-bed03f60ab77"
      },
      "execution_count": 33,
      "outputs": [
        {
          "output_type": "execute_result",
          "data": {
            "text/plain": [
              "(TensorSpec(shape=(32, 128), dtype=tf.int32, name=None),\n",
              " TensorSpec(shape=(32, 128), dtype=tf.int32, name=None),\n",
              " TensorSpec(shape=(32, 128), dtype=tf.int32, name=None))"
            ]
          },
          "metadata": {},
          "execution_count": 33
        }
      ]
    },
    {
      "cell_type": "code",
      "source": [
        "elem = next(iter(text_train_data))\n",
        "elem"
      ],
      "metadata": {
        "colab": {
          "base_uri": "https://localhost:8080/"
        },
        "id": "K45EsFdYn7zG",
        "outputId": "0a98a13e-1bf8-417f-939f-9fbf29bbfb3d"
      },
      "execution_count": 34,
      "outputs": [
        {
          "output_type": "execute_result",
          "data": {
            "text/plain": [
              "(<tf.Tensor: shape=(32, 128), dtype=int32, numpy=\n",
              " array([[ 101, 2033, 8598, ...,    0,    0,    0],\n",
              "        [ 101, 2084, 2891, ...,    0,    0,    0],\n",
              "        [ 101, 2821, 2053, ...,    0,    0,    0],\n",
              "        ...,\n",
              "        [ 101, 2043, 2017, ...,    0,    0,    0],\n",
              "        [ 101, 6307, 2703, ...,    0,    0,    0],\n",
              "        [ 101, 2043, 2017, ...,    0,    0,    0]], dtype=int32)>,\n",
              " <tf.Tensor: shape=(32, 128), dtype=int32, numpy=\n",
              " array([[1, 1, 1, ..., 0, 0, 0],\n",
              "        [1, 1, 1, ..., 0, 0, 0],\n",
              "        [1, 1, 1, ..., 0, 0, 0],\n",
              "        ...,\n",
              "        [1, 1, 1, ..., 0, 0, 0],\n",
              "        [1, 1, 1, ..., 0, 0, 0],\n",
              "        [1, 1, 1, ..., 0, 0, 0]], dtype=int32)>,\n",
              " <tf.Tensor: shape=(32, 128), dtype=int32, numpy=\n",
              " array([[0, 0, 0, ..., 0, 0, 0],\n",
              "        [0, 0, 0, ..., 0, 0, 0],\n",
              "        [0, 0, 0, ..., 0, 0, 0],\n",
              "        ...,\n",
              "        [0, 0, 0, ..., 0, 0, 0],\n",
              "        [0, 0, 0, ..., 0, 0, 0],\n",
              "        [0, 0, 0, ..., 0, 0, 0]], dtype=int32)>)"
            ]
          },
          "metadata": {},
          "execution_count": 34
        }
      ]
    },
    {
      "cell_type": "markdown",
      "source": [
        "# Merge image and text tf.dataset"
      ],
      "metadata": {
        "id": "D77AwrnEmW97"
      }
    },
    {
      "cell_type": "code",
      "source": [
        "text_train_data.element_spec"
      ],
      "metadata": {
        "colab": {
          "base_uri": "https://localhost:8080/"
        },
        "id": "6ITHh10hys0H",
        "outputId": "58f6e598-4f1d-42f0-c0c7-04b1c09fe911"
      },
      "execution_count": 35,
      "outputs": [
        {
          "output_type": "execute_result",
          "data": {
            "text/plain": [
              "(TensorSpec(shape=(32, 128), dtype=tf.int32, name=None),\n",
              " TensorSpec(shape=(32, 128), dtype=tf.int32, name=None),\n",
              " TensorSpec(shape=(32, 128), dtype=tf.int32, name=None))"
            ]
          },
          "metadata": {},
          "execution_count": 35
        }
      ]
    },
    {
      "cell_type": "code",
      "source": [
        "# merged train data\n",
        "try_data = tf.data.Dataset.zip((image_train_data, text_train_data))\n",
        "try_data.element_spec\n",
        "train_data = try_data.map(lambda x, y: ((x[0], y[0], y[1], y[2]), x[1]))\n",
        "train_data.element_spec"
      ],
      "metadata": {
        "colab": {
          "base_uri": "https://localhost:8080/"
        },
        "id": "vroTUNTXi0il",
        "outputId": "1dc8d949-ba14-465b-c389-89b57215087e"
      },
      "execution_count": 36,
      "outputs": [
        {
          "output_type": "execute_result",
          "data": {
            "text/plain": [
              "((TensorSpec(shape=(32, 224, 224, 3), dtype=tf.float32, name=None),\n",
              "  TensorSpec(shape=(32, 128), dtype=tf.int32, name=None),\n",
              "  TensorSpec(shape=(32, 128), dtype=tf.int32, name=None),\n",
              "  TensorSpec(shape=(32, 128), dtype=tf.int32, name=None)),\n",
              " TensorSpec(shape=(32,), dtype=tf.float32, name=None))"
            ]
          },
          "metadata": {},
          "execution_count": 36
        }
      ]
    },
    {
      "cell_type": "code",
      "source": [
        "# merged validation data\n",
        "try_data1 = tf.data.Dataset.zip((image_val_data, text_val_data))\n",
        "try_data1.element_spec\n",
        "val_data = try_data1.map(lambda x, y: ((x[0], y[0], y[1], y[2]), x[1]))\n",
        "val_data.element_spec"
      ],
      "metadata": {
        "colab": {
          "base_uri": "https://localhost:8080/"
        },
        "id": "efXgLhBdDHZ6",
        "outputId": "15496f90-6cfa-439b-bfc3-f9a98d5bf525"
      },
      "execution_count": 37,
      "outputs": [
        {
          "output_type": "execute_result",
          "data": {
            "text/plain": [
              "((TensorSpec(shape=(32, 224, 224, 3), dtype=tf.float32, name=None),\n",
              "  TensorSpec(shape=(32, 128), dtype=tf.int32, name=None),\n",
              "  TensorSpec(shape=(32, 128), dtype=tf.int32, name=None),\n",
              "  TensorSpec(shape=(32, 128), dtype=tf.int32, name=None)),\n",
              " TensorSpec(shape=(32,), dtype=tf.float32, name=None))"
            ]
          },
          "metadata": {},
          "execution_count": 37
        }
      ]
    },
    {
      "cell_type": "code",
      "source": [
        "# merged validation data\n",
        "try_data2 = tf.data.Dataset.zip((image_test_data, text_test_data))\n",
        "try_data2.element_spec\n",
        "test_data = try_data2.map(lambda x, y: ((x[0], y[0], y[1], y[2]), x[1]))\n",
        "test_data.element_spec"
      ],
      "metadata": {
        "colab": {
          "base_uri": "https://localhost:8080/"
        },
        "id": "PL87CwcQZHML",
        "outputId": "dc08f8c2-87c0-466a-c4fc-59b995091ef3"
      },
      "execution_count": 38,
      "outputs": [
        {
          "output_type": "execute_result",
          "data": {
            "text/plain": [
              "((TensorSpec(shape=(32, 224, 224, 3), dtype=tf.float32, name=None),\n",
              "  TensorSpec(shape=(32, 128), dtype=tf.int32, name=None),\n",
              "  TensorSpec(shape=(32, 128), dtype=tf.int32, name=None),\n",
              "  TensorSpec(shape=(32, 128), dtype=tf.int32, name=None)),\n",
              " TensorSpec(shape=(32,), dtype=tf.float32, name=None))"
            ]
          },
          "metadata": {},
          "execution_count": 38
        }
      ]
    },
    {
      "cell_type": "markdown",
      "source": [
        "# Load Pre-trained Model + Build Multimodal"
      ],
      "metadata": {
        "id": "puie_NYrCjyI"
      }
    },
    {
      "cell_type": "markdown",
      "source": [
        "***--- Image Model ---***"
      ],
      "metadata": {
        "id": "Kisoez-AwwPa"
      }
    },
    {
      "cell_type": "code",
      "source": [
        "# Load original model with pretrained weights from imagenet\n",
        "base_model = applications.VGG16(weights=\"imagenet\")\n",
        "\n",
        "# Freeze base model\n",
        "base_model.trainable = False\n",
        "\n",
        "# Create new model (deeper) on top\n",
        "img_height = 224\n",
        "img_width = 224\n",
        "inputs = Input(shape=(img_height, img_width, 3))\n",
        "x = base_model(inputs, training=False)\n",
        "outputs = Dense(128, activation=\"sigmoid\")(x)\n",
        "\n",
        "vgg16_model = Model(inputs, outputs)\n",
        "vgg16_model.summary()"
      ],
      "metadata": {
        "colab": {
          "base_uri": "https://localhost:8080/"
        },
        "id": "3-H3TV6D3KMv",
        "outputId": "ddc62418-1b5b-46d8-ff8e-45be9ce82b52"
      },
      "execution_count": 39,
      "outputs": [
        {
          "output_type": "stream",
          "name": "stdout",
          "text": [
            "Downloading data from https://storage.googleapis.com/tensorflow/keras-applications/vgg16/vgg16_weights_tf_dim_ordering_tf_kernels.h5\n",
            "553467904/553467096 [==============================] - 11s 0us/step\n",
            "553476096/553467096 [==============================] - 11s 0us/step\n",
            "Model: \"model\"\n",
            "_________________________________________________________________\n",
            " Layer (type)                Output Shape              Param #   \n",
            "=================================================================\n",
            " input_2 (InputLayer)        [(None, 224, 224, 3)]     0         \n",
            "                                                                 \n",
            " vgg16 (Functional)          (None, 1000)              138357544 \n",
            "                                                                 \n",
            " dense (Dense)               (None, 128)               128128    \n",
            "                                                                 \n",
            "=================================================================\n",
            "Total params: 138,485,672\n",
            "Trainable params: 128,128\n",
            "Non-trainable params: 138,357,544\n",
            "_________________________________________________________________\n"
          ]
        }
      ]
    },
    {
      "cell_type": "code",
      "source": [
        "plot_model(vgg16_model)"
      ],
      "metadata": {
        "colab": {
          "base_uri": "https://localhost:8080/",
          "height": 0
        },
        "id": "EdiqvQi7zi3m",
        "outputId": "c7c97a55-1c0d-4143-d5da-5d5ffc1b77cf"
      },
      "execution_count": 40,
      "outputs": [
        {
          "output_type": "execute_result",
          "data": {
            "text/plain": [
              "<IPython.core.display.Image object>"
            ],
            "image/png": "[encoded data removed]"
          },
          "metadata": {},
          "execution_count": 40
        }
      ]
    },
    {
      "cell_type": "markdown",
      "source": [
        "***--- Text Model ---***"
      ],
      "metadata": {
        "id": "TgFm3B-Ww9Hu"
      }
    },
    {
      "cell_type": "code",
      "source": [
        "#bert_layer = hub.KerasLayer(\"https://tfhub.dev/tensorflow/bert_en_uncased_L-12_H-768_A-12/1\",\n",
        "#                            trainable=True)"
      ],
      "metadata": {
        "id": "4gnqief2Mco7"
      },
      "execution_count": 41,
      "outputs": []
    },
    {
      "cell_type": "code",
      "source": [
        "max_length = 128\n",
        "input_word_ids = tf.keras.layers.Input(shape=(max_length,), dtype=tf.int32,\n",
        "                                       name=\"input_word_ids\")\n",
        "input_mask = tf.keras.layers.Input(shape=(max_length,), dtype=tf.int32,\n",
        "                                   name=\"input_mask\")\n",
        "segment_ids = tf.keras.layers.Input(shape=(max_length,), dtype=tf.int32,\n",
        "                                    name=\"segment_ids\")\n",
        "bert_layer = hub.KerasLayer(\"https://tfhub.dev/tensorflow/bert_en_uncased_L-12_H-768_A-12/1\",\n",
        "                            trainable=True)\n",
        "pooled_output, sequence_output = bert_layer([input_word_ids, input_mask, segment_ids])\n",
        "lstm_out = layers.Bidirectional(LSTM(128, name='LSTM'))(sequence_output) # Bidirectional LSTM instead of LSTM\n",
        "\n",
        "#bert_model = Model(inputs=[input_word_ids, input_mask, segment_ids], outputs=[pooled_output, sequence_output])\n",
        "bert_model = Model(inputs=[input_word_ids, input_mask, segment_ids], outputs=lstm_out)"
      ],
      "metadata": {
        "id": "nrbj6Oke6uMZ"
      },
      "execution_count": 42,
      "outputs": []
    },
    {
      "cell_type": "code",
      "source": [
        "#pooled_output.shape"
      ],
      "metadata": {
        "id": "6aGPKLptmx42"
      },
      "execution_count": 43,
      "outputs": []
    },
    {
      "cell_type": "code",
      "source": [
        "# Keep the Bert layers trainable\n",
        "for layer in bert_model.layers:\n",
        "    layer.trainable = True"
      ],
      "metadata": {
        "id": "RgP-tmnDA7O1"
      },
      "execution_count": 44,
      "outputs": []
    },
    {
      "cell_type": "code",
      "source": [
        "bert_model.summary()"
      ],
      "metadata": {
        "colab": {
          "base_uri": "https://localhost:8080/"
        },
        "id": "Rz91kFUwxJXU",
        "outputId": "235855bc-e71d-4947-f4f3-2100a482c248"
      },
      "execution_count": 45,
      "outputs": [
        {
          "output_type": "stream",
          "name": "stdout",
          "text": [
            "Model: \"model_1\"\n",
            "__________________________________________________________________________________________________\n",
            " Layer (type)                   Output Shape         Param #     Connected to                     \n",
            "==================================================================================================\n",
            " input_word_ids (InputLayer)    [(None, 128)]        0           []                               \n",
            "                                                                                                  \n",
            " input_mask (InputLayer)        [(None, 128)]        0           []                               \n",
            "                                                                                                  \n",
            " segment_ids (InputLayer)       [(None, 128)]        0           []                               \n",
            "                                                                                                  \n",
            " keras_layer (KerasLayer)       [(None, 768),        109482241   ['input_word_ids[0][0]',         \n",
            "                                 (None, 128, 768)]                'input_mask[0][0]',             \n",
            "                                                                  'segment_ids[0][0]']            \n",
            "                                                                                                  \n",
            " bidirectional (Bidirectional)  (None, 256)          918528      ['keras_layer[0][1]']            \n",
            "                                                                                                  \n",
            "==================================================================================================\n",
            "Total params: 110,400,769\n",
            "Trainable params: 110,400,768\n",
            "Non-trainable params: 1\n",
            "__________________________________________________________________________________________________\n"
          ]
        }
      ]
    },
    {
      "cell_type": "code",
      "source": [
        "plot_model(bert_model)"
      ],
      "metadata": {
        "colab": {
          "base_uri": "https://localhost:8080/",
          "height": 0
        },
        "id": "jnu84_OWzVEH",
        "outputId": "a8630c4e-db51-462a-c164-ea992f3a5dd0"
      },
      "execution_count": 46,
      "outputs": [
        {
          "output_type": "execute_result",
          "data": {
            "text/plain": [
              "<IPython.core.display.Image object>"
            ],
            "image/png": "[encoded data removed]"
          },
          "metadata": {},
          "execution_count": 46
        }
      ]
    },
    {
      "cell_type": "markdown",
      "source": [
        "***--- Multimodal ---***"
      ],
      "metadata": {
        "id": "Xo3kRGnryVkU"
      }
    },
    {
      "cell_type": "code",
      "source": [
        "# Stacking early-fusion multimodal model\n",
        "nClasses = 2 # binary\n",
        "\n",
        "input_word_ids = layers.Input(shape=(max_length,), dtype=tf.int32,\n",
        "                                       name=\"input_word_ids\")\n",
        "input_mask = layers.Input(shape=(max_length,), dtype=tf.int32,\n",
        "                                       name=\"input_mask\")\n",
        "segment_ids = layers.Input(shape=(max_length,), dtype=tf.int32,\n",
        "                                       name=\"segment_ids\")\n",
        "image_input = layers.Input(shape=(img_height, img_width, 3), dtype=tf.float32,\n",
        "                                       name=\"image\")\n",
        "\n",
        "image_side = vgg16_model(image_input)\n",
        "text_side = bert_model([input_word_ids, input_mask, segment_ids])\n",
        "# Concatenate features from images and texts\n",
        "merged = layers.Concatenate()([image_side, text_side])\n",
        "merged = layers.Dense(256, activation = 'relu')(merged)\n",
        "output = layers.Dense(1, activation='sigmoid', name = \"class\")(merged)\n",
        "\n",
        "merge_model = models.Model([image_input, input_word_ids, input_mask, segment_ids], output)"
      ],
      "metadata": {
        "id": "tFNkM_hUxpT2"
      },
      "execution_count": 47,
      "outputs": []
    },
    {
      "cell_type": "code",
      "source": [
        "merge_model.summary()"
      ],
      "metadata": {
        "colab": {
          "base_uri": "https://localhost:8080/"
        },
        "id": "CnGtH8oexpf-",
        "outputId": "fe151b22-3ea1-4d7e-beca-1aa96749f47e"
      },
      "execution_count": 48,
      "outputs": [
        {
          "output_type": "stream",
          "name": "stdout",
          "text": [
            "Model: \"model_2\"\n",
            "__________________________________________________________________________________________________\n",
            " Layer (type)                   Output Shape         Param #     Connected to                     \n",
            "==================================================================================================\n",
            " image (InputLayer)             [(None, 224, 224, 3  0           []                               \n",
            "                                )]                                                                \n",
            "                                                                                                  \n",
            " input_word_ids (InputLayer)    [(None, 128)]        0           []                               \n",
            "                                                                                                  \n",
            " input_mask (InputLayer)        [(None, 128)]        0           []                               \n",
            "                                                                                                  \n",
            " segment_ids (InputLayer)       [(None, 128)]        0           []                               \n",
            "                                                                                                  \n",
            " model (Functional)             (None, 128)          138485672   ['image[0][0]']                  \n",
            "                                                                                                  \n",
            " model_1 (Functional)           (None, 256)          110400769   ['input_word_ids[0][0]',         \n",
            "                                                                  'input_mask[0][0]',             \n",
            "                                                                  'segment_ids[0][0]']            \n",
            "                                                                                                  \n",
            " concatenate (Concatenate)      (None, 384)          0           ['model[0][0]',                  \n",
            "                                                                  'model_1[0][0]']                \n",
            "                                                                                                  \n",
            " dense_1 (Dense)                (None, 256)          98560       ['concatenate[0][0]']            \n",
            "                                                                                                  \n",
            " class (Dense)                  (None, 1)            257         ['dense_1[0][0]']                \n",
            "                                                                                                  \n",
            "==================================================================================================\n",
            "Total params: 248,985,258\n",
            "Trainable params: 110,627,713\n",
            "Non-trainable params: 138,357,545\n",
            "__________________________________________________________________________________________________\n"
          ]
        }
      ]
    },
    {
      "cell_type": "code",
      "source": [
        "plot_model(merge_model)"
      ],
      "metadata": {
        "colab": {
          "base_uri": "https://localhost:8080/",
          "height": 0
        },
        "id": "k4PFo5c-aQ_x",
        "outputId": "0ade9e3a-1f11-43e1-c30e-55a0472c9254"
      },
      "execution_count": 49,
      "outputs": [
        {
          "output_type": "execute_result",
          "data": {
            "text/plain": [
              "<IPython.core.display.Image object>"
            ],
            "image/png": "[encoded data removed]"
          },
          "metadata": {},
          "execution_count": 49
        }
      ]
    },
    {
      "cell_type": "markdown",
      "source": [
        "# Model Compile"
      ],
      "metadata": {
        "id": "MlsUcu9nnfkp"
      }
    },
    {
      "cell_type": "code",
      "source": [
        "#!pip install mlflow"
      ],
      "metadata": {
        "id": "MJLm9OCfERHm"
      },
      "execution_count": null,
      "outputs": []
    },
    {
      "cell_type": "code",
      "source": [
        "#import mlflow.tensorflow\n",
        "from tensorflow.keras.optimizers import Adam"
      ],
      "metadata": {
        "id": "py2vFZ5GDF5h"
      },
      "execution_count": 50,
      "outputs": []
    },
    {
      "cell_type": "code",
      "source": [
        "# Check out the MLflow UI as this runs\n",
        "#mlflow.tensorflow.autolog(every_n_iter=2)"
      ],
      "metadata": {
        "id": "hwvRjWBHEFH1"
      },
      "execution_count": null,
      "outputs": []
    },
    {
      "cell_type": "code",
      "source": [
        "# optimizer and metric\n",
        "merge_model.compile(loss=\"binary_crossentropy\", optimizer=Adam(lr=0.005), metrics=[\"accuracy\"]) "
      ],
      "metadata": {
        "colab": {
          "base_uri": "https://localhost:8080/"
        },
        "id": "NSmrtycAFEOX",
        "outputId": "51653d23-1f16-4952-dd46-e1f0affd40b8"
      },
      "execution_count": 51,
      "outputs": [
        {
          "output_type": "stream",
          "name": "stderr",
          "text": [
            "/usr/local/lib/python3.7/dist-packages/keras/optimizer_v2/adam.py:105: UserWarning: The `lr` argument is deprecated, use `learning_rate` instead.\n",
            "  super(Adam, self).__init__(name, **kwargs)\n"
          ]
        }
      ]
    },
    {
      "cell_type": "code",
      "source": [
        "train_data.element_spec"
      ],
      "metadata": {
        "colab": {
          "base_uri": "https://localhost:8080/"
        },
        "id": "qOohJEatjgD7",
        "outputId": "7b7b4e73-ad27-458a-ac00-8bf2f9de86c2"
      },
      "execution_count": 52,
      "outputs": [
        {
          "output_type": "execute_result",
          "data": {
            "text/plain": [
              "((TensorSpec(shape=(32, 224, 224, 3), dtype=tf.float32, name=None),\n",
              "  TensorSpec(shape=(32, 128), dtype=tf.int32, name=None),\n",
              "  TensorSpec(shape=(32, 128), dtype=tf.int32, name=None),\n",
              "  TensorSpec(shape=(32, 128), dtype=tf.int32, name=None)),\n",
              " TensorSpec(shape=(32,), dtype=tf.float32, name=None))"
            ]
          },
          "metadata": {},
          "execution_count": 52
        }
      ]
    },
    {
      "cell_type": "code",
      "source": [
        "step_size_train = 1308//32\n",
        "step_size_valid = 437//32"
      ],
      "metadata": {
        "id": "TRaXdo4W_N67"
      },
      "execution_count": 191,
      "outputs": []
    },
    {
      "cell_type": "code",
      "source": [
        "#step_size_train=train_data.n//train_data.batch_size\n",
        "#step_size_valid=valid_generator.n//valid_generator.batch_size"
      ],
      "metadata": {
        "id": "zmQxldIxte9o"
      },
      "execution_count": 58,
      "outputs": []
    },
    {
      "cell_type": "code",
      "source": [
        "# Train the model \n",
        "merge_model.fit(train_data,\n",
        "                #steps_per_epoch=step_size_train, #tf.dataset is none\n",
        "                validation_data=val_data,\n",
        "                #validation_steps=step_size_valid,\n",
        "                epochs=10,\n",
        "                verbose=2 # show: epoch 1/10...\n",
        ")"
      ],
      "metadata": {
        "colab": {
          "base_uri": "https://localhost:8080/"
        },
        "id": "-sjgGf-BFHrv",
        "outputId": "eba71360-7fd5-4bc9-f1dd-9feb36e06b1f"
      },
      "execution_count": 53,
      "outputs": [
        {
          "output_type": "stream",
          "name": "stdout",
          "text": [
            "Epoch 1/10\n",
            "40/40 - 134s - loss: 0.7697 - accuracy: 0.4820 - val_loss: 0.7219 - val_accuracy: 0.4760 - 134s/epoch - 3s/step\n",
            "Epoch 2/10\n",
            "40/40 - 83s - loss: 0.7020 - accuracy: 0.4898 - val_loss: 0.6901 - val_accuracy: 0.4760 - 83s/epoch - 2s/step\n",
            "Epoch 3/10\n",
            "40/40 - 83s - loss: 0.6864 - accuracy: 0.5211 - val_loss: 0.6610 - val_accuracy: 0.5240 - 83s/epoch - 2s/step\n",
            "Epoch 4/10\n",
            "40/40 - 92s - loss: 0.6482 - accuracy: 0.6305 - val_loss: 0.6536 - val_accuracy: 0.5240 - 92s/epoch - 2s/step\n",
            "Epoch 5/10\n",
            "40/40 - 83s - loss: 0.4852 - accuracy: 0.8547 - val_loss: 0.2846 - val_accuracy: 1.0000 - 83s/epoch - 2s/step\n",
            "Epoch 6/10\n",
            "40/40 - 83s - loss: 0.1360 - accuracy: 0.9977 - val_loss: 0.0437 - val_accuracy: 1.0000 - 83s/epoch - 2s/step\n",
            "Epoch 7/10\n",
            "40/40 - 83s - loss: 0.0305 - accuracy: 0.9969 - val_loss: 0.0177 - val_accuracy: 1.0000 - 83s/epoch - 2s/step\n",
            "Epoch 8/10\n",
            "40/40 - 93s - loss: 0.0179 - accuracy: 0.9977 - val_loss: 0.0101 - val_accuracy: 1.0000 - 93s/epoch - 2s/step\n",
            "Epoch 9/10\n",
            "40/40 - 83s - loss: 0.0182 - accuracy: 0.9969 - val_loss: 0.0112 - val_accuracy: 1.0000 - 83s/epoch - 2s/step\n",
            "Epoch 10/10\n",
            "40/40 - 92s - loss: 0.0175 - accuracy: 0.9969 - val_loss: 0.0112 - val_accuracy: 1.0000 - 92s/epoch - 2s/step\n"
          ]
        },
        {
          "output_type": "execute_result",
          "data": {
            "text/plain": [
              "<keras.callbacks.History at 0x7f622cd30510>"
            ]
          },
          "metadata": {},
          "execution_count": 53
        }
      ]
    },
    {
      "cell_type": "code",
      "source": [
        "# Evaluate\n",
        "#step_size_test = test_generator.n//test_generator.batch_size"
      ],
      "metadata": {
        "id": "L2tblZ9-FIXf"
      },
      "execution_count": null,
      "outputs": []
    },
    {
      "cell_type": "code",
      "source": [
        "eval_results = merge_model.evaluate(test_data)\n",
        "                                    #steps=step_size_test\n",
        "print(f\"loss: {eval_results[0]}. accuracy: {eval_results[1]}\")"
      ],
      "metadata": {
        "colab": {
          "base_uri": "https://localhost:8080/"
        },
        "id": "5QLvyp97ZZSX",
        "outputId": "521b4a2d-b884-4898-cd00-dd408121e40f"
      },
      "execution_count": 54,
      "outputs": [
        {
          "output_type": "stream",
          "name": "stdout",
          "text": [
            "18/18 [==============================] - 16s 889ms/step - loss: 0.0111 - accuracy: 1.0000\n",
            "loss: 0.011127863079309464. accuracy: 1.0\n"
          ]
        }
      ]
    },
    {
      "cell_type": "code",
      "source": [
        "#check every sample has right shape\n",
        "#missing data?\n",
        "#batch_size modification\n",
        "#image has to be match with text"
      ],
      "metadata": {
        "id": "2ZAHNEH6FIcg"
      },
      "execution_count": null,
      "outputs": []
    }
  ]
}